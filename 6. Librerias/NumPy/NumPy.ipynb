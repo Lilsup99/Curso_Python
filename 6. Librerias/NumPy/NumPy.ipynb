{
 "cells": [
  {
   "cell_type": "markdown",
   "metadata": {},
   "source": [
    "# NumPy (Numerical Python)\n",
    "![](_rsc\\numpy.jpg)\n",
    "## https://numpy.org\n",
    "\n",
    "Numerical Python, o mejormente conocido como numpy, es una libreria de python open source(codigo libre), que es usado practicamente en todos los campos de ciencia e ingenieria. Es el standard universal para el trabajo con datos numericos en python.\n",
    "\n",
    "La principal caracteristica de la libreria NumPy es que contiene arrays multidimensionales y matrices como estructuras de datos(OBJETOS), ademas de numerosos metodos que podemos aplicar a dichos arrays para hacer calculos matematicos complejos.\n",
    "\n",
    "En resumen: NumPy incorpora a python poderosas estructuras de datos, que garantizan calculos efiencientes con arrays y matrices, ademas que vienen incorporados numerosas funciones matematicas de alto nivel que pueden operarse en estos arrays y matrices"
   ]
  },
  {
   "cell_type": "code",
   "execution_count": null,
   "metadata": {},
   "outputs": [],
   "source": [
    "''' \n",
    "Primero que todo, debemos instalar la libreria de NumPy, ya que esta\n",
    "no viene incorporada en el interprete de python, para realizar la\n",
    "instalacion, debemos ejecutar en nuestro terminal el siguiente comando:\n",
    "\n",
    "pip install numpy\n",
    "\n",
    "O simplemente ejecuta esta celda y la descarga se hara automaticamente\n",
    "'''\n",
    "\n",
    "!pip install numpy"
   ]
  },
  {
   "cell_type": "markdown",
   "metadata": {},
   "source": [
    "Una vez instala la libreria, ya podemos usarla en nuestro codigo python, para eso primero debemos importarla"
   ]
  },
  {
   "cell_type": "code",
   "execution_count": 1,
   "metadata": {},
   "outputs": [],
   "source": [
    "import numpy as np"
   ]
  },
  {
   "cell_type": "markdown",
   "metadata": {},
   "source": [
    "*Numpy siempre se importa con el alias de `np`, esto con el objetivo de un codigo mas legible, esto es una convencion que todos los programadores en el mundo siguen*"
   ]
  },
  {
   "cell_type": "code",
   "execution_count": 16,
   "metadata": {},
   "outputs": [
    {
     "data": {
      "text/plain": [
       "numpy.ndarray"
      ]
     },
     "execution_count": 16,
     "metadata": {},
     "output_type": "execute_result"
    }
   ],
   "source": [
    "# ahora creemos un array de numpy, esto se hace de la siguiente manera\n",
    "\n",
    "array = np.array([10,20,30,40,50])\n",
    "\n",
    "type(array)"
   ]
  },
  {
   "cell_type": "code",
   "execution_count": null,
   "metadata": {},
   "outputs": [],
   "source": [
    "# podemos crear un array tambien con un rango\n",
    "\n",
    "array1 = np.arange(5)\n",
    "\n",
    "print(array1)"
   ]
  },
  {
   "cell_type": "markdown",
   "metadata": {},
   "source": [
    "#### `np.linspace()`"
   ]
  },
  {
   "cell_type": "code",
   "execution_count": null,
   "metadata": {},
   "outputs": [],
   "source": [
    "#con linspace podemos crear un intervalo lo mas denso que querramos.\n",
    "\n",
    "l = np.linspace(start=0, stop=10, num=5)\n",
    "\n",
    "l"
   ]
  },
  {
   "cell_type": "markdown",
   "metadata": {},
   "source": [
    "#### indices y slicing (sub_arrays)"
   ]
  },
  {
   "cell_type": "code",
   "execution_count": null,
   "metadata": {},
   "outputs": [],
   "source": [
    "#los elementos de un array estan indexados, podemos acceder a ellos\n",
    "\n",
    "array = np.arange(10)\n",
    "\n",
    "print(array[5])\n",
    "\n",
    "# o tambien acceder a un rango del array\n",
    "\n",
    "print(array[:7])\n",
    "print(array[5:])"
   ]
  },
  {
   "cell_type": "markdown",
   "metadata": {},
   "source": [
    "![](_rsc\\slicing.png)"
   ]
  },
  {
   "cell_type": "markdown",
   "metadata": {},
   "source": [
    "#### Operaciones con arrays"
   ]
  },
  {
   "cell_type": "code",
   "execution_count": 12,
   "metadata": {},
   "outputs": [],
   "source": [
    "a = np.arange(1,26)\n",
    "b = np.linspace(1,100,25)\n",
    "\n",
    "#Para operar dos arrays, primero estos deben ser de la misma longitud\n",
    "\n",
    "suma = a + b"
   ]
  },
  {
   "cell_type": "markdown",
   "metadata": {},
   "source": [
    "![](_rsc\\suma.png)"
   ]
  },
  {
   "cell_type": "code",
   "execution_count": null,
   "metadata": {},
   "outputs": [],
   "source": [
    "# mas operaciones\n",
    "\n",
    "resta = a - b\n",
    "multiplicacion = a * b\n",
    "division = a / b"
   ]
  },
  {
   "cell_type": "markdown",
   "metadata": {},
   "source": [
    "![](_rsc\\operaciones.png)"
   ]
  },
  {
   "cell_type": "code",
   "execution_count": null,
   "metadata": {},
   "outputs": [],
   "source": [
    "# producto por un escalar\n",
    "\n",
    "producto = a * 5\n"
   ]
  },
  {
   "cell_type": "markdown",
   "metadata": {},
   "source": [
    "![](_rsc\\escalar.png)"
   ]
  },
  {
   "cell_type": "code",
   "execution_count": null,
   "metadata": {},
   "outputs": [],
   "source": [
    "# otras funciones\n",
    "suma_total = a.sum()\n",
    "minimo = b.min()\n",
    "maximo = suma.max()\n"
   ]
  },
  {
   "cell_type": "markdown",
   "metadata": {},
   "source": [
    "## arrays vs listas\n",
    "\n",
    "* 1. *Operaciones Vectorizadas:* NumPy realiza operaciones en matrices y arrays completos de datos, en lugar de iterar a traves de elemetos uno por uno(listas), esto acelera los calculos.\n",
    "\n",
    "\n",
    "* 2. *Uso de Memoria Eficiente:* Los arrays de NumPy son mas compactos en memoria que las listas de python, lo que reduce la sobrecarga y mejora el rendimiento.\n",
    "\n",
    "\n",
    "* 3. *Paralelizacion:* NumPy puede aprovechar la paralelizacion de hardware, como CPU multicore, para acelerar calculos.\n",
    "\n",
    "\n",
    "* 4. *Funciones de agregacion y estadisticas*: Tambien nos proporciona funciones optimizadas para realizar calculos estadisticos y de agregacion en arrays numericos."
   ]
  },
  {
   "cell_type": "code",
   "execution_count": 13,
   "metadata": {},
   "outputs": [
    {
     "name": "stdout",
     "output_type": "stream",
     "text": [
      "Tiempo usando lista de Python: 4.084692478179932 segundos\n",
      "Tiempo usando array de NumPy: 0.048096418380737305 segundos\n"
     ]
    }
   ],
   "source": [
    "import numpy as np\n",
    "import time\n",
    "\n",
    "# Crear una lista de Python y un array de NumPy con 10 millones de elementos\n",
    "lista_python = list(range(10000000))\n",
    "array_numpy = np.arange(10000000)\n",
    "\n",
    "# Realizar una operación simple: elevar todos los elementos al cuadrado\n",
    "start_time = time.time()\n",
    "lista_python_cuadrado = [x ** 2 for x in lista_python] #List comprehension\n",
    "end_time = time.time()\n",
    "print(\"Tiempo usando lista de Python:\", end_time - start_time, \"segundos\")\n",
    "\n",
    "start_time = time.time()\n",
    "array_numpy_cuadrado = array_numpy ** 2\n",
    "end_time = time.time()\n",
    "print(\"Tiempo usando array de NumPy:\", end_time - start_time, \"segundos\")\n"
   ]
  },
  {
   "cell_type": "markdown",
   "metadata": {},
   "source": [
    "## Matrices\n",
    "\n",
    "Puedes crear un array de NumPy pasandoles una lista de listas para crear un array de n dimensiones\n",
    "(o una 'matriz n x n')."
   ]
  },
  {
   "cell_type": "code",
   "execution_count": 3,
   "metadata": {},
   "outputs": [
    {
     "data": {
      "text/plain": [
       "array([[1, 2, 3],\n",
       "       [4, 5, 6],\n",
       "       [7, 8, 9]])"
      ]
     },
     "execution_count": 3,
     "metadata": {},
     "output_type": "execute_result"
    }
   ],
   "source": [
    "matrix = np.array([[1,2,3], [4,5,6], [7,8,9]])\n",
    "\n",
    "matrix"
   ]
  },
  {
   "cell_type": "markdown",
   "metadata": {},
   "source": [
    "![](_rsc\\matriz.png)"
   ]
  },
  {
   "cell_type": "code",
   "execution_count": null,
   "metadata": {},
   "outputs": [],
   "source": [
    "#Para acceder a los elementos de una matriz es igual con la notacion de indices.\n",
    "#ojo a la hora de hacer slicing\n",
    "\n",
    "print(matrix[0,1])\n",
    "print(matrix[1:3])\n",
    "print(matrix[0:2, 0])"
   ]
  },
  {
   "cell_type": "markdown",
   "metadata": {},
   "source": [
    "![](_rsc\\np_matrix_indexing.png)"
   ]
  },
  {
   "cell_type": "code",
   "execution_count": null,
   "metadata": {},
   "outputs": [],
   "source": [
    "#a una matriz tambien se le pueden aplicar los siguientes metodos\n",
    "\n",
    "suma_m = matrix.sum()\n",
    "max_m = matrix.max()\n",
    "min_m = matrix.min()"
   ]
  },
  {
   "cell_type": "markdown",
   "metadata": {},
   "source": [
    "![](_rsc\\np_matrix_aggregation.png)"
   ]
  },
  {
   "cell_type": "code",
   "execution_count": 19,
   "metadata": {},
   "outputs": [],
   "source": [
    "# podemos hacer la suma resta y multiplicacion de una matriz,\n",
    "# para la suma y resta se hace la misma notacion, con la multiplicacion\n",
    "# es asi\n",
    "\n",
    "mult_matriz = matrix @ matrix"
   ]
  },
  {
   "cell_type": "markdown",
   "metadata": {},
   "source": [
    "## Otras maneras de crear arrays"
   ]
  },
  {
   "cell_type": "code",
   "execution_count": 24,
   "metadata": {},
   "outputs": [],
   "source": [
    "#crear arrays full de ceros 0\n",
    "\n",
    "cero = np.zeros(10)\n",
    "cero_matriz = np.zeros((3,5))"
   ]
  },
  {
   "cell_type": "code",
   "execution_count": 27,
   "metadata": {},
   "outputs": [],
   "source": [
    "# se puede hacer lo mismo pero con puros 1\n",
    "\n",
    "uno = np.ones(100)\n",
    "uno_matriz = np.ones((10,5))"
   ]
  },
  {
   "cell_type": "markdown",
   "metadata": {},
   "source": [
    "## Tamaño de un array "
   ]
  },
  {
   "cell_type": "code",
   "execution_count": 28,
   "metadata": {},
   "outputs": [
    {
     "data": {
      "text/plain": [
       "(100,)"
      ]
     },
     "execution_count": 28,
     "metadata": {},
     "output_type": "execute_result"
    }
   ],
   "source": [
    "# con la funcion shape, podemos saber el tamaño de un array.\n",
    "\n",
    "uno.shape"
   ]
  },
  {
   "cell_type": "markdown",
   "metadata": {},
   "source": [
    "## `Reshape`"
   ]
  },
  {
   "cell_type": "code",
   "execution_count": 31,
   "metadata": {},
   "outputs": [
    {
     "name": "stdout",
     "output_type": "stream",
     "text": [
      "[0 1 2 3 4 5 6 7 8]\n"
     ]
    },
    {
     "data": {
      "text/plain": [
       "array([[0, 1, 2],\n",
       "       [3, 4, 5],\n",
       "       [6, 7, 8]])"
      ]
     },
     "execution_count": 31,
     "metadata": {},
     "output_type": "execute_result"
    }
   ],
   "source": [
    "# con reshape podemos cambiar la forma de un array\n",
    "\n",
    "x = np.arange(9)\n",
    "print(x)\n",
    "\n",
    "x.reshape(3,3)"
   ]
  },
  {
   "cell_type": "markdown",
   "metadata": {},
   "source": [
    "Ya vimos que NumPy tiene un fuerte impacto en el rendimiento de nuestro equipo y tiempo de ejecucion de equipo, esta libreria es sumamente usada en diversos proyectos relacionados con analisis numerico, algebra lineal, machine learning, deep learning y mucho mas, para conocer numerosas aplicaciones de esta libreria visite el siguiente enlace:\n",
    "\n",
    "## https://numpy.org/numpy-tutorials/\n",
    "\n",
    "Y no olvidemos que siempreque trabajamos con una libreria hay que tener la documentacion a la mano\n",
    "\n",
    "## https://numpy.org/doc/"
   ]
  }
 ],
 "metadata": {
  "kernelspec": {
   "display_name": "Python 3",
   "language": "python",
   "name": "python3"
  },
  "language_info": {
   "codemirror_mode": {
    "name": "ipython",
    "version": 3
   },
   "file_extension": ".py",
   "mimetype": "text/x-python",
   "name": "python",
   "nbconvert_exporter": "python",
   "pygments_lexer": "ipython3",
   "version": "3.10.11"
  },
  "orig_nbformat": 4
 },
 "nbformat": 4,
 "nbformat_minor": 2
}
