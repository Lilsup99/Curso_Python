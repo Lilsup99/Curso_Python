{
 "cells": [
  {
   "cell_type": "markdown",
   "metadata": {},
   "source": [
    "# Funciones en Python\n",
    "\n",
    "Anteriormente hemos usado funciones ya definidas dentro de Python, como por ejemplo `type()` para conocer un tipo de dato, o la funcion `len()` para saber la longitud de una lista o una tupla etc.   "
   ]
  },
  {
   "cell_type": "markdown",
   "metadata": {},
   "source": [
    "### Funciones matematicas\n",
    "\n",
    "En Python disponemos de varias funciones matematicas para poder usar en nuestro codigo, todas ellas estan integradas en un modulo o libreria llamado math. A continuacion se indica como poder usar estas funciones"
   ]
  },
  {
   "cell_type": "code",
   "execution_count": null,
   "metadata": {},
   "outputs": [],
   "source": [
    "import math\n",
    "\n",
    "''' \n",
    "note que primeramente hacemos la importacion de la libreria math, asi podemos usar en nuestro\n",
    "codigo todas las funcionalidades que ella trae, para usar una funcion de math tenemos que hacerle\n",
    "el llamado a la libreria en si y con la notacion de punto escribimos la funcion\n",
    "'''\n",
    "#raiz cuadrada\n",
    "a = 2\n",
    "raiz_cuadrada = math.sqrt(a)\n",
    "\n",
    "print(raiz_cuadrada)\n",
    "\n",
    "#coseno\n",
    "a = 180\n",
    "coseno = math.cos(a)\n",
    "\n",
    "print(coseno)"
   ]
  },
  {
   "cell_type": "markdown",
   "metadata": {},
   "source": [
    "Mas adelante en los suguientes temas profundizaremos en el uso de la librerias, para mas informacion de todas las funciones que podemos encontrar en el modulo `math` visite el siguiente enlace: https://docs.python.org/3/library/math.html"
   ]
  },
  {
   "cell_type": "markdown",
   "metadata": {},
   "source": [
    "# Funciones Built-in\n",
    "\n",
    "son aquellas funciones que ya vienen incorporadas en el interprete de python, en cualquier momento de nuestro codigo, siempre las tendremos disponibles para usarlas.\n",
    "\n",
    "![](_rsc\\built_in.PNG)\n",
    "\n",
    "Para mas informacion sobre estas funciones: https://docs.python.org/es/3/library/functions.html"
   ]
  },
  {
   "cell_type": "markdown",
   "metadata": {},
   "source": [
    "# Crear Funciones en Python"
   ]
  },
  {
   "cell_type": "markdown",
   "metadata": {},
   "source": [
    "*Hasta ahora solo hemos usado las funciones que vienen incluidas con Python,\n",
    "pero tambien es posible añadir nuevas funciones. La creacion de nuevas funciones\n",
    "para resolver problemas particulares es una de las cosas mas utiles de los\n",
    "lenguajes de programacion de proposito general.*"
   ]
  },
  {
   "cell_type": "markdown",
   "metadata": {},
   "source": [
    "En general, para definir una funcion en Python usamos la suguiente sintaxis \n",
    "\n",
    "![](_rsc\\funcion_sintaxis.PNG)\n",
    "\n",
    "Primero hacemos uso de la palabra reservada `def`, luego colocamos el nombre de nuestra funcion y dentro del parentesis los argumentos que nuestra funcion va a tomar. Luego, el flujo de ejecucion de la funcion se escribe en un bloque de codigo identado despues de la definicion."
   ]
  },
  {
   "cell_type": "code",
   "execution_count": null,
   "metadata": {},
   "outputs": [],
   "source": [
    "# ejemplo: Definir una funcion\n",
    "\n",
    "def saludo():\n",
    "    print('hola')\n",
    "\n",
    "\n",
    "# para usar nuestra funcion simplemente la llamamos por su nombre\n",
    "\n",
    "saludo()"
   ]
  },
  {
   "cell_type": "markdown",
   "metadata": {},
   "source": [
    "Podemos entender una funcion como una maquina donde le damos un dato de entrada y esperamos un dato de salida (esto es un punto de vista mas general)\n",
    "\n",
    "![](_rsc\\funcion_maquina.PNG)"
   ]
  },
  {
   "cell_type": "markdown",
   "metadata": {},
   "source": [
    "## `return`\n",
    "\n",
    "Usando la sentencia `return`, podemos asignar los datos de salida que tendra nuestra funcion."
   ]
  },
  {
   "cell_type": "code",
   "execution_count": null,
   "metadata": {},
   "outputs": [],
   "source": [
    "# funcion que suma dos numeros\n",
    "\n",
    "def suma(a, b):\n",
    "    sum = a+b\n",
    "    return sum"
   ]
  },
  {
   "cell_type": "markdown",
   "metadata": {},
   "source": [
    "OBSERVACION: Cuando ejecutamos una funcion en Python, en el momento que esta en su bloque de codigo interno alcanza una sentencia de `return`, la funcion automaticamente se detiene, y devuelve los valores predeterminados, sin importar si hay aun mas lineas de codigo restantes"
   ]
  },
  {
   "cell_type": "code",
   "execution_count": null,
   "metadata": {},
   "outputs": [],
   "source": [
    "# Funcion que determina si un numero es positivo, negativo o cero\n",
    "\n",
    "def signo(n):\n",
    "    if n > 0:\n",
    "        return f'{n} es positivo'\n",
    "    elif n < 0:\n",
    "        return f'{n} es negativo'\n",
    "    \n",
    "    return f'{n} es cero'"
   ]
  },
  {
   "cell_type": "markdown",
   "metadata": {},
   "source": [
    "### algunos conceptos importantes"
   ]
  },
  {
   "cell_type": "markdown",
   "metadata": {},
   "source": [
    "#### Variable local y global\n",
    "\n",
    "Las variables pueden ser globales o locales. Una variable es global a no ser que esté declarada dentro de una definición de función. Las variables globales resultan visibles y disponibles para todas las sentencias de un script. Las variables locales sólo resultan visibles y disponibles dentro de la función en la que están definidas."
   ]
  },
  {
   "cell_type": "code",
   "execution_count": null,
   "metadata": {},
   "outputs": [],
   "source": [
    "#ejemplo\n",
    "\n",
    "a = 10 # esto es una variable global\n",
    "\n",
    "def foo(n: int):\n",
    "    a = 5 # esto es una variable local\n",
    "    return(n+a)"
   ]
  },
  {
   "cell_type": "markdown",
   "metadata": {},
   "source": [
    "note que resulta válido declarar una variable local con el mismo nombre que una variable global o incluso con el mismo nombre que una variable local definida en otra función."
   ]
  },
  {
   "cell_type": "markdown",
   "metadata": {},
   "source": [
    "#### recursividad\n",
    "\n",
    "Se llama recursividad a un proceso mediante el que una función se llama a sí misma de forma repetida, hasta que se satisface alguna determinada condición. El proceso se utiliza para computaciones repetidas en las que cada acción se determina mediante un resultado anterior. Se pueden escribir de esta forma muchos problemas iterativos."
   ]
  },
  {
   "cell_type": "code",
   "execution_count": 1,
   "metadata": {},
   "outputs": [],
   "source": [
    "# ejemplo: funcion factorial\n",
    "\n",
    "def factorial_recursivo(n):\n",
    "    if n == 1:\n",
    "        return 1\n",
    "    else:\n",
    "        a =  n * factorial_recursivo(n-1)\n",
    "        return a"
   ]
  },
  {
   "cell_type": "markdown",
   "metadata": {},
   "source": [
    "#### Distintos tipos de dato como argumentos\n",
    "\n",
    "podemos definir una funcion que reciba cualquier tipo de dato, siempre y cuando cumpla con todas las condiciones del lenguaje"
   ]
  },
  {
   "cell_type": "code",
   "execution_count": 7,
   "metadata": {},
   "outputs": [],
   "source": [
    "# a esta funcion se le puede pasar como argumento cualquier objeto iterable\n",
    "\n",
    "def mostrar_lista(lista):\n",
    "    for i in lista:\n",
    "        print(i)    "
   ]
  },
  {
   "cell_type": "markdown",
   "metadata": {},
   "source": [
    "### definir los tipos de dato de entrada y salida de una funcion\n",
    "\n",
    "Esto se llama function annotation o anotaciones en funciones. Dicha funcionalidad nos permite añadir metadatos a las funciones, indicando los tipos esperados tanto de entrada como de salida.\n",
    "\n"
   ]
  },
  {
   "cell_type": "code",
   "execution_count": null,
   "metadata": {},
   "outputs": [],
   "source": [
    "def suma(a: int, b: int) -> int:\n",
    "    c = a + b\n",
    "    return c"
   ]
  },
  {
   "cell_type": "markdown",
   "metadata": {},
   "source": [
    "## Funciones Lambda\n",
    "\n",
    "Las funciones lambda son un atajo para crear funciones rapidas, con esta notacion podemos crear una funcion en una sola linea. en esencia son simplemente una versión acortada, que puedes usar si te da pereza escribir una función"
   ]
  },
  {
   "cell_type": "code",
   "execution_count": null,
   "metadata": {},
   "outputs": [],
   "source": [
    "suma_lambda = lambda a ,b : a + b"
   ]
  },
  {
   "cell_type": "code",
   "execution_count": null,
   "metadata": {},
   "outputs": [],
   "source": [
    "#podemos usar nuestra funcion lambda como una funcion normar\n",
    "\n",
    "suma_lambda(1,2)"
   ]
  },
  {
   "cell_type": "markdown",
   "metadata": {},
   "source": [
    "#### Ejercicios"
   ]
  },
  {
   "cell_type": "code",
   "execution_count": null,
   "metadata": {},
   "outputs": [],
   "source": [
    "# Escribir una función a la que se le pase una cadena <nombre> y\n",
    "# muestre por pantalla el saludo ¡hola <nombre>!."
   ]
  },
  {
   "cell_type": "code",
   "execution_count": null,
   "metadata": {},
   "outputs": [],
   "source": [
    "# Escribir una función que calcule el área de un círculo y otra que \n",
    "# calcule el volumen de un cilindro usando la primera función."
   ]
  },
  {
   "cell_type": "code",
   "execution_count": null,
   "metadata": {},
   "outputs": [],
   "source": [
    "# Escribir una función que calcule el máximo común divisor de dos números \n",
    "# y otra que calcule el mínimo común múltiplo."
   ]
  },
  {
   "cell_type": "code",
   "execution_count": null,
   "metadata": {},
   "outputs": [],
   "source": [
    "''' escribe una funcion relacion(a, b) que reciba dos numeros y que cumpla con lo siguiente\n",
    "\n",
    "(1) Si el primer número es mayor que el segundo, debe devolver 1.\n",
    "(2) Si el primer número es menor que el segundo, debe devolver -1.\n",
    "(3) Si ambos números son iguales, debe devolver un 0.\n",
    "'''"
   ]
  },
  {
   "cell_type": "code",
   "execution_count": null,
   "metadata": {},
   "outputs": [],
   "source": [
    "''' \n",
    "Escribe una funcion que reciba como argumento una lista, y retorne una lista nueva solo con \n",
    "los datos del tipo int (si es que existen) de la lista original\n",
    "\n",
    "tip: investigar acerca de la funcion isintance()\n",
    "'''"
   ]
  },
  {
   "cell_type": "code",
   "execution_count": null,
   "metadata": {},
   "outputs": [],
   "source": [
    "# escribir una funcion que reciba una cadena y devuelva el numero de vocales que hay contenido en esta"
   ]
  },
  {
   "cell_type": "code",
   "execution_count": null,
   "metadata": {},
   "outputs": [],
   "source": [
    "'''\n",
    "PALINDROMO: Palabra o expresión que es igual si se lee de izquierda a derecha que de derecha a izquierda.\n",
    "\n",
    "Escriba una funcion que como argumento de entrada tenga una cadena, y que retorne un mensaje si la cadena es un\n",
    "palindromo o no \n",
    "'''"
   ]
  },
  {
   "cell_type": "code",
   "execution_count": null,
   "metadata": {},
   "outputs": [],
   "source": [
    "'''\n",
    "*****VALIDACION DE CONTRASEÑA*****\n",
    "Escribe una función llamada validar_contrasena que tome una contraseña como parámetro \n",
    "y verifique si cumple con los siguientes requisitos:\n",
    "\n",
    "(1) La contraseña debe tener al menos 8 caracteres de longitud.\n",
    "(2) La contraseña debe contener al menos una letra mayúscula.\n",
    "(3) La contraseña debe contener al menos una letra minúscula.\n",
    "\n",
    "si la contraseña cumple con todos las condiciones la funcion debe retornar un True, caso contrario si no cumple\n",
    "con alguna condicion debe retornar un False\n",
    "'''"
   ]
  },
  {
   "cell_type": "code",
   "execution_count": null,
   "metadata": {},
   "outputs": [],
   "source": [
    "'''\n",
    "Para este ejercicio recuerde la sucesion de fibonacci, escriba una funcion fibonacci() que reciba \n",
    "un entero n mayor o igual a cero, y retorne el n-esimo numero de la sucesion de fibonacci.\n",
    "\n",
    "por ejemplo, los primeros diez elementos de la sucecion son:\n",
    "\n",
    "1, 1, 2, 3, 5, 8, 13, 21, 34, 55\n",
    "\n",
    "entonces fibonacci(5) deberia retornar el numero 8 (el que esta en la posicion 5 empezando a contar desde 0)\n",
    "\n",
    "pista: recursividad.\n",
    "'''"
   ]
  }
 ],
 "metadata": {
  "kernelspec": {
   "display_name": "Python 3",
   "language": "python",
   "name": "python3"
  },
  "language_info": {
   "codemirror_mode": {
    "name": "ipython",
    "version": 3
   },
   "file_extension": ".py",
   "mimetype": "text/x-python",
   "name": "python",
   "nbconvert_exporter": "python",
   "pygments_lexer": "ipython3",
   "version": "3.10.11"
  },
  "orig_nbformat": 4
 },
 "nbformat": 4,
 "nbformat_minor": 2
}
