{
 "cells": [
  {
   "cell_type": "markdown",
   "metadata": {},
   "source": [
    "# Estructuras de control\n",
    "\n",
    "Para escribir codigos utiles, casi siempre necesitamos la capacidad de comprobar ciertas condiciones y cambiar el comportamiento del programa. De no ser por las estructuras de control, el código en cualquier lenguaje de programación sería ejecutado secuencialmente hasta terminar. Un código, no deja de ser un conjunto de instrucciones que son ejecutadas unas tras otra. Gracias a las estructuras de control, podemos cambiar el flujo de ejecución de un programa, haciendo que ciertos bloques de código se ejecuten si y solo si se dan unas condiciones particulares."
   ]
  },
  {
   "cell_type": "markdown",
   "metadata": {},
   "source": [
    "para este tema es importante recordar los operadores relacionales, que al ser evaluados nos regresan un valor booleano, es decir, `False` o `True`,algunos ejeplos de dichos operadores son:\n",
    "\n",
    "* x == y\n",
    "* x > y\n",
    "* x < y\n",
    "* x != y\n",
    "* etc..."
   ]
  },
  {
   "cell_type": "markdown",
   "metadata": {},
   "source": [
    "# `IF` \n",
    "\n",
    "la sentencia `IF` se usa para determinar el flujo del programa en función de la evaluar una expresión logica. Si el valor de expresión es verdadero, se ejecutan las sentencias, caso contrario, si es falso no se ejecutan.\n",
    "\n",
    "![](_rsc\\if-DF.jpg) "
   ]
  },
  {
   "cell_type": "code",
   "execution_count": 2,
   "metadata": {},
   "outputs": [],
   "source": [
    "# no es posible dividir entre cero\n",
    "a = 6\n",
    "b = 0\n",
    "\n",
    "if b != 0:\n",
    "    print(a/b)\n",
    "       "
   ]
  },
  {
   "cell_type": "markdown",
   "metadata": {},
   "source": [
    "La expresion booleana despues del `if` recibe el nombre de condicion, y la sentencia finaliza con : , luego de ser verdadera la expresion (`True`), se ejecutara todo el bloque de codigo identado despues de la sentencia/"
   ]
  },
  {
   "cell_type": "markdown",
   "metadata": {},
   "source": [
    "### `ELSE`\n",
    "\n",
    "El uso del else en conjunto con if, nos permite ejecutar un bloque de codigo alternativo en caso de no ser verdadera la condicion que le pasamos al if.\n",
    "\n",
    "![](_rsc\\if_else.jpg)\n",
    "\n",
    "![](_rsc\\python-if-else.png)"
   ]
  },
  {
   "cell_type": "code",
   "execution_count": null,
   "metadata": {},
   "outputs": [],
   "source": [
    "#Decidir si un numero es par o impar\n",
    "\n",
    "x = int(input('ingrese numero: '))\n",
    "\n",
    "if x % 2 == 0:\n",
    "    print('el numero es par')\n",
    "else:\n",
    "    print('el numero es impar')"
   ]
  },
  {
   "cell_type": "markdown",
   "metadata": {},
   "source": [
    "### `ELIF`\n",
    "\n",
    "El uso del `ELIF` es util cuando se quieren evaluar multiples condiciones.\n",
    "\n",
    "![](_rsc\\elif.png)"
   ]
  },
  {
   "cell_type": "code",
   "execution_count": 8,
   "metadata": {},
   "outputs": [
    {
     "name": "stdout",
     "output_type": "stream",
     "text": [
      "los numeros son iguales\n"
     ]
    }
   ],
   "source": [
    "# tricotomia en los numeros\n",
    "\n",
    "x =  float(input())\n",
    "y = float(input())\n",
    "\n",
    "if x < y:\n",
    "    print(f'{x} es menor que {y}')\n",
    "    #print('{} es menor que {}'.format(x,y))\n",
    "elif y < x:\n",
    "    print('{} es menor que {}'.format(y,x))\n",
    "else:\n",
    "    print('los numeros son iguales')    "
   ]
  },
  {
   "cell_type": "markdown",
   "metadata": {},
   "source": [
    "# `WHILE`\n",
    "\n",
    "El uso del `while` nos permite ejecutar una sección de código repetidas veces, El bloque de código se ejecutará mientras una condición determinada se cumpla. Cuando se deje de cumplir, se saldrá del bucle y se continuará la ejecución normal. Se denomina iteracion a una ejecucion completa del bloque de codigo.\n",
    "\n",
    "![](_rsc\\while.png) "
   ]
  },
  {
   "cell_type": "markdown",
   "metadata": {},
   "source": [
    "Estos son los pasos que sigue el `WHILE`\n",
    "\n",
    "* Evaluar la condicion, devolviendo False o True.\n",
    "* Si la condicion es falsa (`False`), salir de la sentencia while y continuar la ejecucion en la siguiente sentencia.\n",
    "* Si la condicion es verdadera (`True`), ejecutar cada una de las sentencias en el cuerpo del bucle while, y luego volver al primer paso.\n",
    "\n",
    "Este tipo de flujo se llama bucle."
   ]
  },
  {
   "cell_type": "markdown",
   "metadata": {},
   "source": [
    "### OBSERVACIÓN:\n",
    "\n",
    "Note que debemos manipular ciertas variables en nuestro bloque de codigo usado en un `while`, de manera que en un determinado momento la condicion que le pasamos devuelva como valor `False`, y asi el ciclo termine, caso contrario, el bucle se repetira para siempre, lo que se llama un bucle infinito."
   ]
  },
  {
   "cell_type": "code",
   "execution_count": null,
   "metadata": {},
   "outputs": [],
   "source": [
    "# NO ejecutes esto\n",
    "\n",
    "while True:\n",
    "    print('bucle infinito')"
   ]
  },
  {
   "cell_type": "code",
   "execution_count": null,
   "metadata": {},
   "outputs": [],
   "source": [
    "# note que al manipular la variable i podemos hacer que el bucle se detenga en cierto momento.\n",
    "\n",
    "i = 1\n",
    "while i < 101:\n",
    "  print(i)\n",
    "  i += 1"
   ]
  },
  {
   "cell_type": "markdown",
   "metadata": {},
   "source": [
    "### Contadores\n",
    "\n",
    "haciendo uso de contadores podemos controlar el numero de iteraciones en un `while`"
   ]
  },
  {
   "cell_type": "code",
   "execution_count": null,
   "metadata": {},
   "outputs": [],
   "source": [
    "# ejemplo: imprimir los primeros n numeros\n",
    "n = int(input(''))\n",
    "i = 0         # seteamos nuestro contador en 0\n",
    "while i <= n:\n",
    "    print(i)\n",
    "    i += 1    # esto es lo mismo que escribir i = i + 1"
   ]
  },
  {
   "cell_type": "markdown",
   "metadata": {},
   "source": [
    "El siguiente programa define una sucesion tal que esta comienza con un numero entero n ingresado por teclado, y los siguientes elementos se obtienen de la siguiente manera:\n",
    "\n",
    "* si n es par entonces el siguiente es n/2\n",
    "* si n es impar entonces el siguiente es 3*n + 1\n",
    "\n",
    "Esto se repite hasta que n sea igual a 1. Con cualquier numero que intentes, siempre llegara a 1 la sucesion, y el codigo se detendra."
   ]
  },
  {
   "cell_type": "code",
   "execution_count": null,
   "metadata": {},
   "outputs": [],
   "source": [
    "# ejemplo\n",
    "\n",
    "n = int(input())\n",
    "\n",
    "while n != 1:              \n",
    "    if n % 2 == 0:         # si es par lo divido entre dos\n",
    "        n = n / 2\n",
    "        print(n) \n",
    "    else:                  # si es impar los sustituyo por el triple mas 1\n",
    "        n = 3*n + 1\n",
    "        print(n)"
   ]
  },
  {
   "cell_type": "markdown",
   "metadata": {},
   "source": [
    "# `FOR` y `RANGE`\n",
    "\n",
    "Podemos crear una estructura de control donde se genere un bucle y controlar el numero de iteraciones totales, esto usando `for` en conjunto con `range`"
   ]
  },
  {
   "cell_type": "code",
   "execution_count": null,
   "metadata": {},
   "outputs": [],
   "source": [
    "for i in range(15): #aqui definimos un bucle que hara 15 iteraciones\n",
    "    print(i)"
   ]
  },
  {
   "cell_type": "markdown",
   "metadata": {},
   "source": [
    "## Objetos iterables\n",
    "\n",
    "para entender bien el concepto de que es un objeto iterable se propone el siguiente ejercicio: dada una lista en python se quiere mostrar por pantalla cada uno de sus valores por separado, con los visto hasta ahora, una solucion puede ser esta:"
   ]
  },
  {
   "cell_type": "code",
   "execution_count": null,
   "metadata": {},
   "outputs": [],
   "source": [
    "lista = [1, 3, 7, 9, 13, 15]\n",
    "\n",
    "i=0\n",
    "while i < len(lista):\n",
    "    print(lista[i])\n",
    "    i += 1"
   ]
  },
  {
   "cell_type": "code",
   "execution_count": null,
   "metadata": {},
   "outputs": [],
   "source": [
    "#otra solucion usando for\n",
    "\n",
    "lista = [1, 3, 7, 9, 13, 15]\n",
    "\n",
    "for i in range(len(lista)):\n",
    "    print(lista[i])"
   ]
  },
  {
   "cell_type": "markdown",
   "metadata": {},
   "source": [
    "Aunque ambas formas son validas para lo que se requiere, en Python contamos con una forma mucho mas sencilla de hacer esto"
   ]
  },
  {
   "cell_type": "code",
   "execution_count": null,
   "metadata": {},
   "outputs": [],
   "source": [
    "#la mejor manera\n",
    "\n",
    "lista = [1, 3, 7, 9, 13, 15]\n",
    "\n",
    "for i in lista:\n",
    "    print(i)"
   ]
  },
  {
   "cell_type": "markdown",
   "metadata": {},
   "source": [
    "De esta manera recorremos una lista de forma sencilla, esto se puede hacer tambien con una cadena, una tupla, un diccionario etc. En general los objetos que cumplen con esto se dicen que son de clase iterable, y para iterar en ellos se sigue siempre la misma sentencia `for elemento in [clase_iterable]:`, donde la variable `elemento` en cada iteracion tomara los valores del objeto de clase iterable."
   ]
  },
  {
   "cell_type": "markdown",
   "metadata": {},
   "source": [
    "# `break` y `continue`\n",
    "\n",
    "* La sentencia break nos permite alterar el comportamiento de los bucles while y for. Concretamente, permite terminar con la ejecución del bucle. Esto significa que una vez se encuentra la palabra break, el bucle se habrá terminado.\n",
    "\n",
    "* continue se salta todo el código restante en la iteración actual y vuelve al principio en el caso de que aún queden iteraciones por completar. La diferencia entre el break y continue es que el continue no rompe el bucle, si no que pasa a la siguiente iteración saltando el código pendiente."
   ]
  },
  {
   "cell_type": "code",
   "execution_count": null,
   "metadata": {},
   "outputs": [],
   "source": [
    "numeros = [1, 2, 3, 4, 5, 6, 7, 8, 9, 10]\n",
    "busqueda = 6\n",
    "\n",
    "for numero in numeros:\n",
    "    if numero == busqueda:\n",
    "        print(\"Número encontrado:\", numero)\n",
    "        break\n",
    "    else:\n",
    "        print(\"Número no encontrado:\", numero)\n"
   ]
  },
  {
   "cell_type": "code",
   "execution_count": null,
   "metadata": {},
   "outputs": [],
   "source": [
    "#seleccionar solo los impares\n",
    "\n",
    "numeros = [1, 2, 3, 4, 5, 6, 7, 8, 9, 10]\n",
    "\n",
    "for numero in numeros:\n",
    "    if numero % 2 == 0:\n",
    "        continue\n",
    "    print(\"Número impar:\", numero)\n"
   ]
  },
  {
   "cell_type": "markdown",
   "metadata": {},
   "source": [
    "### Ejercicios"
   ]
  },
  {
   "cell_type": "code",
   "execution_count": 30,
   "metadata": {},
   "outputs": [
    {
     "name": "stdout",
     "output_type": "stream",
     "text": [
      "3.0 es positivo\n"
     ]
    }
   ],
   "source": [
    "'''\n",
    "Escribe un programa que lea un numero flotante por teclado y diga si el numero es positivo, \n",
    "negativo o cero \n",
    "'''\n",
    "\n",
    "n  = float(input())\n",
    "\n",
    "if n > 0:\n",
    "    print(f'{n} es positivo')\n",
    "elif n < 0:\n",
    "    print(f'{n} es negativo')\n",
    "else:\n",
    "    print('el numero es cero')    "
   ]
  },
  {
   "cell_type": "code",
   "execution_count": null,
   "metadata": {},
   "outputs": [],
   "source": [
    "''' \n",
    "Escribe un programa que primero guarde en una variable c una cadena y crear un bucle que pregunte al usuario por una\n",
    "contraseña, y si esta es igual a c termina el bucle\n",
    "'''"
   ]
  },
  {
   "cell_type": "code",
   "execution_count": null,
   "metadata": {},
   "outputs": [],
   "source": [
    "'''\n",
    "Escribe un programa que, dado un numero entero, determine si  ́este es el doble de un numero impar. (Ejemplo: 14 es\n",
    "el doble de 7, que es impar.) \n",
    "'''"
   ]
  },
  {
   "cell_type": "code",
   "execution_count": null,
   "metadata": {},
   "outputs": [],
   "source": [
    "'''\n",
    "Escribe un programa que, a partir de una tupla cualquiera, obtenga una lista con todos los\n",
    "elementos de la tupla.\n",
    "'''"
   ]
  },
  {
   "cell_type": "code",
   "execution_count": null,
   "metadata": {},
   "outputs": [],
   "source": [
    "'''\n",
    "Escribe un programa que muestre por pantalla los numeros multiplos de 7 entre el 1 y el 1000. \n",
    "'''\n",
    "        \n"
   ]
  },
  {
   "cell_type": "code",
   "execution_count": null,
   "metadata": {},
   "outputs": [],
   "source": [
    "'''\n",
    "Numeros Primos: se dice que un entero p>1 es un numero primo si sus unicos dos divisores son 1 y el mismo p.\n",
    "\n",
    "Escriba un programa que definido previamente una variable n del tipo entero positivo, guarde en una tupla todos los numeros\n",
    "primos que existen entre 1 y n.\n",
    "\n",
    "TIP: https://es.wikipedia.org/wiki/Criba_de_Eratóstenes\n",
    "'''"
   ]
  },
  {
   "cell_type": "code",
   "execution_count": null,
   "metadata": {},
   "outputs": [],
   "source": [
    "'''\n",
    "Sucesion de Fibonacci: En matemáticas, la secuencia de Fibonacci es una secuencia que empienza con dos 1, \n",
    "y luego los siguientes elementos se obtiene a partir de la suma de los dos anteriores.\n",
    "\n",
    "1, 1, 2, 3, 5, 8, 13, 21, 34, 55, 89, 144, 233, 377, 610, 987, 1597...\n",
    "\n",
    "Defina una variable n del tipo entero positivo y seguidamente escriba un codigo que guarde en una lista los primeros\n",
    "n elementos de la sucesion de fibonacci\n",
    "'''\n"
   ]
  }
 ],
 "metadata": {
  "kernelspec": {
   "display_name": "Python 3",
   "language": "python",
   "name": "python3"
  },
  "language_info": {
   "codemirror_mode": {
    "name": "ipython",
    "version": 3
   },
   "file_extension": ".py",
   "mimetype": "text/x-python",
   "name": "python",
   "nbconvert_exporter": "python",
   "pygments_lexer": "ipython3",
   "version": "3.10.11"
  },
  "orig_nbformat": 4
 },
 "nbformat": 4,
 "nbformat_minor": 2
}
