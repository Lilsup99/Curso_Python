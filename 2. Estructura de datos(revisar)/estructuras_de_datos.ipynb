{
 "cells": [
  {
   "attachments": {},
   "cell_type": "markdown",
   "metadata": {},
   "source": [
    "# Estructuras de datos\n",
    "\n",
    "Las estructuras de datos en Python se pueden entender como un tipo de dato compuesto, debido a que en una misma variable podemos almacenar una estructura completa con información. Dichas estructuras, pueden tener diferentes características y funcionalidades. De hecho, existen múltiples tipos de estructuras de datos en Python. "
   ]
  },
  {
   "attachments": {},
   "cell_type": "markdown",
   "metadata": {},
   "source": [
    "## Listas\n",
    "\n",
    "Las listas en Python son uno de los tipos o estructuras de datos más versátiles del lenguaje, ya que permiten almacenar un conjunto arbitrario de datos. Es decir, podemos guardar en ellas prácticamente lo que sea. Si vienes de otros lenguajes de programación, se podría decir que son similares a los arrays."
   ]
  },
  {
   "cell_type": "code",
   "execution_count": 1,
   "metadata": {},
   "outputs": [],
   "source": [
    "lista = [10, 20, 30, 41]\n",
    "lista0 = [\"pez\", \"gato\", \"perro\"]"
   ]
  },
  {
   "cell_type": "code",
   "execution_count": 3,
   "metadata": {},
   "outputs": [
    {
     "data": {
      "text/plain": [
       "['pez', 'gato', 'perro']"
      ]
     },
     "execution_count": 3,
     "metadata": {},
     "output_type": "execute_result"
    }
   ],
   "source": [
    "lista0"
   ]
  },
  {
   "attachments": {},
   "cell_type": "markdown",
   "metadata": {},
   "source": [
    "El primer ejemplo es una lista de cuatro enteros. El segundo es una lista de tres\n",
    "cadenas de texto. Los elementos de una lista no tienen por que ser del mismo\n",
    "tipo. La siguiente lista contiene una cadena, un numero con decimales y un\n",
    "entero, y, maravilla de las maravillas, otra lista:"
   ]
  },
  {
   "cell_type": "code",
   "execution_count": 4,
   "metadata": {},
   "outputs": [
    {
     "name": "stdout",
     "output_type": "stream",
     "text": [
      "<class 'list'>\n"
     ]
    }
   ],
   "source": [
    "lista1 = ['hola', 2.0, 5, [10, 20]]\n",
    "print(type(lista1))"
   ]
  },
  {
   "cell_type": "code",
   "execution_count": 22,
   "metadata": {},
   "outputs": [
    {
     "data": {
      "text/plain": [
       "list"
      ]
     },
     "execution_count": 22,
     "metadata": {},
     "output_type": "execute_result"
    }
   ],
   "source": [
    "lista2 = lista1[3]\n",
    "\n",
    "\n",
    "type(lista2)\n",
    "\n"
   ]
  },
  {
   "attachments": {},
   "cell_type": "markdown",
   "metadata": {},
   "source": [
    "Algunas propiedades de las listas:\n",
    "\n",
    "* Son ordenadas, mantienen el orden en el que han sido definidas\n",
    "* Pueden ser formadas por tipos arbitrarios\n",
    "* sus elementos estan indexados.\n",
    "* Se pueden anidar.\n",
    "* Son mutables, ya que sus elementos pueden ser modificados.\n",
    "* Son dinámicas, ya que se pueden añadir o eliminar elementos."
   ]
  },
  {
   "cell_type": "code",
   "execution_count": 9,
   "metadata": {},
   "outputs": [
    {
     "name": "stdout",
     "output_type": "stream",
     "text": [
      "1\n",
      "hola mundo\n",
      "True\n"
     ]
    }
   ],
   "source": [
    "#Podemos acceder a los elementos de una lista mediante sus indices\n",
    "\n",
    "'''\n",
    "Note que el indice i en l[i] va desde 0 \n",
    "hasta n-1 donde n es la longitud de la lista \n",
    "'''\n",
    "\n",
    "l = [1,'hola mundo', True]\n",
    "print(l[0])\n",
    "print(l[1])\n",
    "print(l[2])  \n",
    "#Note que el indice i en l[i] va desde 0 hasta n-1 donde n es la longitud de la lista \n",
    "\n",
    "\n"
   ]
  },
  {
   "cell_type": "code",
   "execution_count": null,
   "metadata": {},
   "outputs": [],
   "source": [
    "''' \n",
    "Las listas que contienen numeros enteros consecutivos son comunes, de manera\n",
    "que Python proporciona una manera sencilla de crearlas:\n",
    "'''\n",
    "\n",
    "a = list(range(1,8))\n",
    "b = list(range(100))"
   ]
  },
  {
   "cell_type": "code",
   "execution_count": 23,
   "metadata": {},
   "outputs": [],
   "source": [
    "# lista vacia\n",
    "l = []"
   ]
  },
  {
   "cell_type": "code",
   "execution_count": 25,
   "metadata": {},
   "outputs": [
    {
     "data": {
      "text/plain": [
       "list"
      ]
     },
     "execution_count": 25,
     "metadata": {},
     "output_type": "execute_result"
    }
   ],
   "source": [
    "type(l)"
   ]
  },
  {
   "attachments": {},
   "cell_type": "markdown",
   "metadata": {},
   "source": [
    "# Metodos de las listas"
   ]
  },
  {
   "cell_type": "code",
   "execution_count": 26,
   "metadata": {},
   "outputs": [
    {
     "name": "stdout",
     "output_type": "stream",
     "text": [
      "[1, 2, 3, 4, 5]\n",
      "[1, 2, 3, 4, 5, 'seis']\n"
     ]
    }
   ],
   "source": [
    "# podemos crear una lista y agregarle elementos en el recorrido del codigo\n",
    "\n",
    "lista = [1, 2, 3, 4, 5]\n",
    "print(l)\n",
    "\n",
    "#agregar un elemento\n",
    "\n",
    "lista.append('seis')\n",
    "print(l)"
   ]
  },
  {
   "cell_type": "code",
   "execution_count": 29,
   "metadata": {},
   "outputs": [
    {
     "name": "stdout",
     "output_type": "stream",
     "text": [
      "['arte', 'musica', 'deportes', 'algebra', 'calculo', 'estadistica']\n"
     ]
    }
   ],
   "source": [
    "# podemos concatenar listas\n",
    "\n",
    "l1 = ['algebra', 'calculo', 'estadistica']\n",
    "l2 = ['arte', 'musica', 'deportes']\n",
    "\n",
    "l2.extend(l1)\n",
    "\n",
    "print(l2)"
   ]
  },
  {
   "cell_type": "code",
   "execution_count": 38,
   "metadata": {},
   "outputs": [
    {
     "name": "stdout",
     "output_type": "stream",
     "text": [
      "[1, 3]\n",
      "[1, 3, 3]\n"
     ]
    }
   ],
   "source": [
    "'''\n",
    "a diferencia del metodo append, que agrega un elemento al final de la lista,\n",
    "con insert podemos agregar un elemento en cualquier posicion \n",
    "'''\n",
    "l = [1, 3]\n",
    "print(l)\n",
    "\n",
    "l.insert(3,3) # insert(<index>, <valor>)\n",
    "print(l)"
   ]
  },
  {
   "cell_type": "code",
   "execution_count": 46,
   "metadata": {},
   "outputs": [
    {
     "name": "stdout",
     "output_type": "stream",
     "text": [
      "[2, 3, 3, 3, 3]\n"
     ]
    }
   ],
   "source": [
    "# podemos eliminar un valor en especifico de una lista con el metodo remove\n",
    "\n",
    "l = [1, 2, 3, 3, 3, 3]\n",
    "\n",
    "l.remove(l[0])\n",
    "print(l)"
   ]
  },
  {
   "cell_type": "code",
   "execution_count": 51,
   "metadata": {},
   "outputs": [
    {
     "name": "stdout",
     "output_type": "stream",
     "text": [
      "[1, 2]\n"
     ]
    }
   ],
   "source": [
    "# con el metodo pop eliminamos el ultimo elemento de la lista\n",
    "\n",
    "l = [1, 2, 3]\n",
    "\n",
    "l.pop()\n",
    "print(l)"
   ]
  },
  {
   "cell_type": "code",
   "execution_count": 56,
   "metadata": {},
   "outputs": [
    {
     "ename": "TypeError",
     "evalue": "list.reverse() takes no arguments (2 given)",
     "output_type": "error",
     "traceback": [
      "\u001b[1;31m---------------------------------------------------------------------------\u001b[0m",
      "\u001b[1;31mTypeError\u001b[0m                                 Traceback (most recent call last)",
      "Cell \u001b[1;32mIn[56], line 5\u001b[0m\n\u001b[0;32m      1\u001b[0m \u001b[39m# con el metodo reverse podemos invertir el orden de una lista\u001b[39;00m\n\u001b[0;32m      3\u001b[0m l \u001b[39m=\u001b[39m [\u001b[39m1\u001b[39m, \u001b[39m2\u001b[39m, \u001b[39m3\u001b[39m]\n\u001b[1;32m----> 5\u001b[0m l\u001b[39m.\u001b[39;49mreverse(\u001b[39m2\u001b[39;49m, \u001b[39m4\u001b[39;49m)\n\u001b[0;32m      6\u001b[0m \u001b[39mprint\u001b[39m(l)\n\u001b[0;32m      7\u001b[0m l[\u001b[39m0\u001b[39m]\n",
      "\u001b[1;31mTypeError\u001b[0m: list.reverse() takes no arguments (2 given)"
     ]
    }
   ],
   "source": [
    "# con el metodo reverse podemos invertir el orden de una lista\n",
    "\n",
    "l = [1, 2, 3]\n",
    "\n",
    "l.reverse(2, 4)\n",
    "print(l)\n",
    "l[0]"
   ]
  },
  {
   "cell_type": "code",
   "execution_count": 62,
   "metadata": {},
   "outputs": [
    {
     "name": "stdout",
     "output_type": "stream",
     "text": [
      "[[20, 10], 5, 2.0, 'hola']\n"
     ]
    }
   ],
   "source": [
    "lista1 = ['hola', 2.0, 5, [10, 20]]\n",
    "\n",
    "lista1[3].reverse()\n",
    "lista1.reverse()\n",
    "\n",
    "print(lista1)\n"
   ]
  },
  {
   "cell_type": "code",
   "execution_count": 71,
   "metadata": {},
   "outputs": [
    {
     "name": "stdout",
     "output_type": "stream",
     "text": [
      "[0, 1, 4, 7, 8, 9, 10, 12, 66]\n"
     ]
    }
   ],
   "source": [
    "# el metodo sort ordena los elementos de menor a mayor por defecto\n",
    "\n",
    "l = [12, 4, 7, 1, 0, 66, 10, 9, 8]\n",
    "\n",
    "l.sort(reverse= True)\n",
    "print(l)"
   ]
  },
  {
   "cell_type": "markdown",
   "metadata": {},
   "source": [
    "### metodo index"
   ]
  },
  {
   "cell_type": "code",
   "execution_count": 72,
   "metadata": {},
   "outputs": [
    {
     "data": {
      "text/plain": [
       "5"
      ]
     },
     "execution_count": 72,
     "metadata": {},
     "output_type": "execute_result"
    }
   ],
   "source": [
    "l = [12, 4, 7, 1, 0, 66, 10, 9, 8]\n",
    "\n",
    "l.index(66)\n"
   ]
  },
  {
   "cell_type": "code",
   "execution_count": null,
   "metadata": {},
   "outputs": [],
   "source": []
  },
  {
   "attachments": {},
   "cell_type": "markdown",
   "metadata": {},
   "source": [
    "## Longitud de una lista"
   ]
  },
  {
   "cell_type": "code",
   "execution_count": 73,
   "metadata": {},
   "outputs": [
    {
     "data": {
      "text/plain": [
       "9"
      ]
     },
     "execution_count": 73,
     "metadata": {},
     "output_type": "execute_result"
    }
   ],
   "source": [
    "# con la funcion len() podemos ver cuantos elementos tiene una lista\n",
    "\n",
    "l = [12, 4, 7, 1, 0, 66, 10, 9, 8]\n",
    "\n",
    "len(l)"
   ]
  },
  {
   "cell_type": "markdown",
   "metadata": {},
   "source": [
    "## funcion `del()`"
   ]
  },
  {
   "cell_type": "code",
   "execution_count": 78,
   "metadata": {},
   "outputs": [
    {
     "name": "stdout",
     "output_type": "stream",
     "text": [
      "['uno', 'lalaal', 'cuatro', 'cinco']\n"
     ]
    }
   ],
   "source": [
    "# Eliminar un elemento indicando su indice\n",
    "\n",
    "l = ['uno', 'dos', 'tres', 'cuatro', 'cinco']\n",
    "l[1] = 'lalaal'\n",
    "del(l[2]) #Borramos el primer elemento de la lista\n",
    "\n",
    "print(l)\n"
   ]
  },
  {
   "attachments": {},
   "cell_type": "markdown",
   "metadata": {},
   "source": [
    "### Porciones de una lista (slices)"
   ]
  },
  {
   "cell_type": "code",
   "execution_count": 86,
   "metadata": {},
   "outputs": [
    {
     "name": "stdout",
     "output_type": "stream",
     "text": [
      "[12, 4, 7, 1, 0, 66, 10, 9, 8]\n",
      "[1, 0, 66, 10]\n",
      "[10, 66, 0, 1]\n"
     ]
    }
   ],
   "source": [
    "'''  \n",
    "es posible crear sublistas más pequeñas de una más grande. Para ello debemos de usar : entre corchetes, \n",
    "indicando a la izquierda el valor de inicio, y a la derecha el valor final que no está incluido. \n",
    "Por lo tanto [0:2] creará una lista con los elementos [0] y [1] de la original.\n",
    "'''\n",
    "\n",
    "l = [12, 4, 7, 1, 0, 66, 10, 9, 8] \n",
    "\n",
    "print(l)\n",
    "\n",
    "l = l[3:7]\n",
    "print(l)\n"
   ]
  },
  {
   "attachments": {
    "image.png": {
     "image/png": "[encoded data removed]"
    }
   },
   "cell_type": "markdown",
   "metadata": {},
   "source": [
    "## Representar una matriz usando listas\n",
    "\n",
    "![image.png](attachment:image.png)"
   ]
  },
  {
   "cell_type": "code",
   "execution_count": 95,
   "metadata": {},
   "outputs": [
    {
     "name": "stdout",
     "output_type": "stream",
     "text": [
      " [1, 2, 3] \n",
      " [4, 5, 6] \n",
      " [7, 8, 9]\n"
     ]
    }
   ],
   "source": [
    "# esta matriz puede ser representada de la siguiente manera\n",
    "l = [[1, 2, 3], [4, 5, 6], [7, 8, 9]]\n",
    "\n",
    "print('',l[0],'\\n', l[1],'\\n',l[2])"
   ]
  },
  {
   "attachments": {},
   "cell_type": "markdown",
   "metadata": {},
   "source": [
    "## Pertencia a una lista\n",
    "\n",
    "_in_ es un operador booleano que comprueba la pertenencia a una secuencia"
   ]
  },
  {
   "cell_type": "code",
   "execution_count": 96,
   "metadata": {},
   "outputs": [
    {
     "name": "stdout",
     "output_type": "stream",
     "text": [
      "True\n",
      "False\n"
     ]
    }
   ],
   "source": [
    "redes_sociales = ['Facebook', 'Twitter', 'Instagram', 'LinkedIn', 'YouTube']\n",
    "\n",
    "print('Facebook' in redes_sociales)\n",
    "print('Spotify' in redes_sociales)"
   ]
  },
  {
   "cell_type": "markdown",
   "metadata": {},
   "source": [
    "## Generar listas de numeros enteros en Python usando `range()`\n"
   ]
  },
  {
   "cell_type": "code",
   "execution_count": 99,
   "metadata": {},
   "outputs": [
    {
     "data": {
      "text/plain": [
       "range(1, 20, 2)"
      ]
     },
     "execution_count": 99,
     "metadata": {},
     "output_type": "execute_result"
    }
   ],
   "source": [
    "#range(inicio, fin, salto)\n",
    "\n",
    "range(1, 20, 2)\n",
    "\n"
   ]
  },
  {
   "cell_type": "code",
   "execution_count": 105,
   "metadata": {},
   "outputs": [
    {
     "data": {
      "text/plain": [
       "[1,\n",
       " 3,\n",
       " 5,\n",
       " 7,\n",
       " 9,\n",
       " 11,\n",
       " 13,\n",
       " 15,\n",
       " 17,\n",
       " 19,\n",
       " 21,\n",
       " 23,\n",
       " 25,\n",
       " 27,\n",
       " 29,\n",
       " 31,\n",
       " 33,\n",
       " 35,\n",
       " 37,\n",
       " 39,\n",
       " 41,\n",
       " 43,\n",
       " 45,\n",
       " 47,\n",
       " 49,\n",
       " 51,\n",
       " 53,\n",
       " 55,\n",
       " 57,\n",
       " 59,\n",
       " 61,\n",
       " 63,\n",
       " 65,\n",
       " 67,\n",
       " 69,\n",
       " 71,\n",
       " 73,\n",
       " 75,\n",
       " 77,\n",
       " 79,\n",
       " 81,\n",
       " 83,\n",
       " 85,\n",
       " 87,\n",
       " 89,\n",
       " 91,\n",
       " 93,\n",
       " 95,\n",
       " 97,\n",
       " 99]"
      ]
     },
     "execution_count": 105,
     "metadata": {},
     "output_type": "execute_result"
    }
   ],
   "source": [
    "list(range(1,100,2))"
   ]
  },
  {
   "cell_type": "code",
   "execution_count": 114,
   "metadata": {},
   "outputs": [
    {
     "data": {
      "text/plain": [
       "[0,\n",
       " 1,\n",
       " 2,\n",
       " 3,\n",
       " 4,\n",
       " 5,\n",
       " 6,\n",
       " 7,\n",
       " 8,\n",
       " 9,\n",
       " 10,\n",
       " 11,\n",
       " 12,\n",
       " 13,\n",
       " 14,\n",
       " 15,\n",
       " 16,\n",
       " 17,\n",
       " 18,\n",
       " 19,\n",
       " 20,\n",
       " 21,\n",
       " 22,\n",
       " 23,\n",
       " 24,\n",
       " 25,\n",
       " 26,\n",
       " 27,\n",
       " 28,\n",
       " 29,\n",
       " 30,\n",
       " 31,\n",
       " 32,\n",
       " 33,\n",
       " 34,\n",
       " 35,\n",
       " 36,\n",
       " 37,\n",
       " 38,\n",
       " 39,\n",
       " 40,\n",
       " 41,\n",
       " 42,\n",
       " 43,\n",
       " 44,\n",
       " 45,\n",
       " 46,\n",
       " 47,\n",
       " 48,\n",
       " 49,\n",
       " 50,\n",
       " 51,\n",
       " 52,\n",
       " 53,\n",
       " 54,\n",
       " 55,\n",
       " 56,\n",
       " 57,\n",
       " 58,\n",
       " 59,\n",
       " 60,\n",
       " 61,\n",
       " 62,\n",
       " 63,\n",
       " 64,\n",
       " 65,\n",
       " 66,\n",
       " 67,\n",
       " 68,\n",
       " 69,\n",
       " 70,\n",
       " 71,\n",
       " 72,\n",
       " 73,\n",
       " 74,\n",
       " 75,\n",
       " 76,\n",
       " 77,\n",
       " 78,\n",
       " 79,\n",
       " 80,\n",
       " 81,\n",
       " 82,\n",
       " 83,\n",
       " 84,\n",
       " 85,\n",
       " 86,\n",
       " 87,\n",
       " 88,\n",
       " 89,\n",
       " 90,\n",
       " 91,\n",
       " 92,\n",
       " 93,\n",
       " 94,\n",
       " 95,\n",
       " 96,\n",
       " 97,\n",
       " 98,\n",
       " 99]"
      ]
     },
     "execution_count": 114,
     "metadata": {},
     "output_type": "execute_result"
    }
   ],
   "source": [
    "#otro ejemplo\n",
    "\n",
    "list(range(100))"
   ]
  },
  {
   "attachments": {},
   "cell_type": "markdown",
   "metadata": {},
   "source": [
    "# Tuplas"
   ]
  },
  {
   "cell_type": "code",
   "execution_count": 115,
   "metadata": {},
   "outputs": [
    {
     "name": "stdout",
     "output_type": "stream",
     "text": [
      "<class 'tuple'>\n"
     ]
    }
   ],
   "source": [
    "# Una tupla en python se escribe de la siguiente manera\n",
    "\n",
    "tupla = (1, 2, 3, 4, 5)\n",
    "print(type(tupla))"
   ]
  },
  {
   "attachments": {},
   "cell_type": "markdown",
   "metadata": {},
   "source": [
    "Las tuplas son parecidas a las listas, la unica diferencia es que estas son inmutables, esto significa que una vez creadas no pueden ser modificadas, cosa que no sucede en las listas (las listas son mutables)."
   ]
  },
  {
   "cell_type": "code",
   "execution_count": 135,
   "metadata": {},
   "outputs": [
    {
     "name": "stdout",
     "output_type": "stream",
     "text": [
      "<class 'tuple'>\n"
     ]
    }
   ],
   "source": [
    "# tambien podemos escribir las tuplas de la siguiente forma\n",
    "\n",
    "tupla = 2, 2, 3, 4, 5\n",
    "print(type(tupla))"
   ]
  },
  {
   "cell_type": "code",
   "execution_count": 118,
   "metadata": {},
   "outputs": [
    {
     "data": {
      "text/plain": [
       "(1, 2, 3, 4, 5)"
      ]
     },
     "execution_count": 118,
     "metadata": {},
     "output_type": "execute_result"
    }
   ],
   "source": [
    "# como en las listas, tambien podemos seleccionar rangos especificos de una tupla\n",
    "\n",
    "tupla"
   ]
  },
  {
   "attachments": {},
   "cell_type": "markdown",
   "metadata": {},
   "source": [
    "### Asignacion de variables usando tuplas\n",
    "\n",
    "en ocasiones cuando estamos programando tenemos que hacer multiples asignaciones de variables, usando la notacion de tuplas podemos definir las variables que necesitemos en una sola linea"
   ]
  },
  {
   "cell_type": "code",
   "execution_count": 120,
   "metadata": {},
   "outputs": [
    {
     "name": "stdout",
     "output_type": "stream",
     "text": [
      "1\n",
      "<class 'str'>\n"
     ]
    }
   ],
   "source": [
    "a, b, c, d  = (1, 'ASAp', 1.1, -3)\n",
    "print(a)\n",
    "print(type(b)) "
   ]
  },
  {
   "attachments": {},
   "cell_type": "markdown",
   "metadata": {},
   "source": [
    "# Metodos en las tuplas"
   ]
  },
  {
   "cell_type": "code",
   "execution_count": 136,
   "metadata": {},
   "outputs": [
    {
     "name": "stdout",
     "output_type": "stream",
     "text": [
      "3\n"
     ]
    }
   ],
   "source": [
    "# count() : cuenta las veces que un elemeneto esta en una tupla\n",
    "\n",
    "l = (1, 1, 1, 3, 5)\n",
    "print(l.count(1))"
   ]
  },
  {
   "cell_type": "code",
   "execution_count": 138,
   "metadata": {},
   "outputs": [
    {
     "name": "stdout",
     "output_type": "stream",
     "text": [
      "0\n"
     ]
    }
   ],
   "source": [
    "# index() : busca el objeto que se le pasa como parámetro y devuelve el índice en el que se ha encontrado.\n",
    "l = (7, 7, 7, 3, 5)\n",
    "print(l.index(7))"
   ]
  },
  {
   "attachments": {},
   "cell_type": "markdown",
   "metadata": {},
   "source": [
    "# Sets\n",
    "\n",
    "los sets (Conjuntos) python son una estructura que nos permiten almacenar datos sin orden, ademas que no permite los duplicados y son inmutables."
   ]
  },
  {
   "cell_type": "code",
   "execution_count": 153,
   "metadata": {},
   "outputs": [],
   "source": [
    "#asi se define un set\n",
    "\n",
    "set = {'a', 'b', 'c', 'd'}"
   ]
  },
  {
   "cell_type": "code",
   "execution_count": 140,
   "metadata": {},
   "outputs": [
    {
     "name": "stdout",
     "output_type": "stream",
     "text": [
      "4\n"
     ]
    }
   ],
   "source": [
    "# podemos usar len para obtener el tamaño del set\n",
    "\n",
    "print(len(set))"
   ]
  },
  {
   "attachments": {},
   "cell_type": "markdown",
   "metadata": {},
   "source": [
    "## Metodos de los Sets"
   ]
  },
  {
   "cell_type": "code",
   "execution_count": 145,
   "metadata": {},
   "outputs": [
    {
     "name": "stdout",
     "output_type": "stream",
     "text": [
      "{'z', 'b', 'a', 'c', 'd'}\n"
     ]
    }
   ],
   "source": [
    "# add() permite añadir un elemento al set\n",
    "\n",
    "set.add('z')\n",
    "print(set)"
   ]
  },
  {
   "cell_type": "code",
   "execution_count": 148,
   "metadata": {},
   "outputs": [
    {
     "name": "stdout",
     "output_type": "stream",
     "text": [
      "{'z', 'b', 'c', 'd'}\n"
     ]
    }
   ],
   "source": [
    "# remove() elimina el elemento que se pasa como parámetro. Si no se encuentra, se lanza la excepción KeyError\n",
    "\n",
    "#set.remove('k')\n",
    "print(set)"
   ]
  },
  {
   "cell_type": "code",
   "execution_count": 152,
   "metadata": {},
   "outputs": [
    {
     "name": "stdout",
     "output_type": "stream",
     "text": [
      "set()\n"
     ]
    }
   ],
   "source": [
    "# pop() elimina un elemento aleatorio del set.\n",
    "\n",
    "set.pop()\n",
    "print(set)"
   ]
  },
  {
   "cell_type": "code",
   "execution_count": 154,
   "metadata": {},
   "outputs": [
    {
     "name": "stdout",
     "output_type": "stream",
     "text": [
      "{'a', 'c', 'b', 'd'}\n",
      "set()\n"
     ]
    }
   ],
   "source": [
    "# clear() elimina todos los elementos de set\n",
    "\n",
    "print(set)\n",
    "set.clear()\n",
    "print(set)"
   ]
  },
  {
   "attachments": {},
   "cell_type": "markdown",
   "metadata": {},
   "source": [
    "### Algebra booleana"
   ]
  },
  {
   "cell_type": "code",
   "execution_count": 155,
   "metadata": {},
   "outputs": [],
   "source": [
    "set1 = {1, 2, 3, 4, 5, 6, 7}\n",
    "set2 = {6, 7, 8, 9, 10, 11}"
   ]
  },
  {
   "cell_type": "code",
   "execution_count": 156,
   "metadata": {},
   "outputs": [
    {
     "data": {
      "text/plain": [
       "{1, 2, 3, 4, 5, 6, 7, 8, 9, 10, 11}"
      ]
     },
     "execution_count": 156,
     "metadata": {},
     "output_type": "execute_result"
    }
   ],
   "source": [
    "# Union de conjuntos\n",
    "set1.union(set2)"
   ]
  },
  {
   "cell_type": "code",
   "execution_count": 157,
   "metadata": {},
   "outputs": [
    {
     "data": {
      "text/plain": [
       "{6, 7}"
      ]
     },
     "execution_count": 157,
     "metadata": {},
     "output_type": "execute_result"
    }
   ],
   "source": [
    "# interseccion de conjuntos\n",
    "set1.intersection(set2)"
   ]
  },
  {
   "attachments": {
    "image.png": {
     "image/png": "[encoded data removed]"
    }
   },
   "cell_type": "markdown",
   "metadata": {},
   "source": [
    "### todas las operaciones\n",
    "\n",
    "![image.png](attachment:image.png)"
   ]
  },
  {
   "attachments": {},
   "cell_type": "markdown",
   "metadata": {},
   "source": [
    "# Diccionarios\n",
    "\n",
    "Note que tanto las listas como las tuplas, son estructuras de datos que usan numeros enteros como indices. Ahora se subira un poco el nivel de complejidad con una nueva estructura de datos cuyos indices puede ser cualquier tipo de dato inmutable. En este caso nos referimos a los diccionarios en python, que almacenan una colección de elementos, donde cada uno tiene una llave (key) y un valor (value). Los diccionarios se pueden crear con llaves { } separando con una coma cada par key: value\n",
    "\n"
   ]
  },
  {
   "cell_type": "code",
   "execution_count": 158,
   "metadata": {},
   "outputs": [],
   "source": [
    "# ejemplo de un diccionario\n",
    "d1 = {\n",
    "  \"Nombre\": \"Sara\",\n",
    "  \"Edad\": 27,\n",
    "  \"Documento\": 1003882\n",
    "}"
   ]
  },
  {
   "cell_type": "code",
   "execution_count": 163,
   "metadata": {},
   "outputs": [
    {
     "data": {
      "text/plain": [
       "1003882"
      ]
     },
     "execution_count": 163,
     "metadata": {},
     "output_type": "execute_result"
    }
   ],
   "source": [
    "d1['Documento']"
   ]
  },
  {
   "cell_type": "code",
   "execution_count": 164,
   "metadata": {},
   "outputs": [],
   "source": [
    "# otra forma de crear un diccionario es partiendo de uno vacio y posteriormente añadirle elementos\n",
    "\n",
    "d2 = {} # dict vacio\n",
    "\n",
    "#se le añaden los elementos\n",
    "d2[\"Nombre\"] = \"Jose\"\n",
    "d2[\"Edad\"] = 23\n",
    "d2[\"Documento\"] = 268106860"
   ]
  },
  {
   "cell_type": "code",
   "execution_count": 166,
   "metadata": {},
   "outputs": [
    {
     "data": {
      "text/plain": [
       "268106860"
      ]
     },
     "execution_count": 166,
     "metadata": {},
     "output_type": "execute_result"
    }
   ],
   "source": [
    "d2['Documento']"
   ]
  },
  {
   "cell_type": "code",
   "execution_count": 169,
   "metadata": {},
   "outputs": [
    {
     "name": "stdout",
     "output_type": "stream",
     "text": [
      "Sara\n",
      "Jose\n"
     ]
    },
    {
     "data": {
      "text/plain": [
       "{'Nombre': 'Jose', 'Edad': 23, 'Documento': 268106860}"
      ]
     },
     "execution_count": 169,
     "metadata": {},
     "output_type": "execute_result"
    }
   ],
   "source": [
    "# acceder a un valor del dict, se hace con el key\n",
    "\n",
    "print(d1['Nombre'])\n",
    "print(d2['Nombre'])\n",
    "d2"
   ]
  },
  {
   "attachments": {},
   "cell_type": "markdown",
   "metadata": {},
   "source": [
    "Los elementos de un diccionario aparecen en una lista separada por comas.\n",
    "Cada entrada contiene un ındice y un valor separado por dos puntos ( : ). En un\n",
    "diccionario, los ındices se llaman claves, por eso los elementos se llaman pares\n",
    "clave-valor."
   ]
  },
  {
   "attachments": {},
   "cell_type": "markdown",
   "metadata": {},
   "source": [
    "### Algunas propiedades de los diccionario en Python son las siguientes:\n",
    "\n",
    "* Son dinámicos, pueden crecer o decrecer, se pueden añadir o eliminar elementos.\n",
    "* Son indexados, los elementos del diccionario son accesibles a través del key.\n",
    "* son anidados, un diccionario puede contener a otro diccionario en su campo value"
   ]
  },
  {
   "cell_type": "code",
   "execution_count": 170,
   "metadata": {},
   "outputs": [
    {
     "name": "stdout",
     "output_type": "stream",
     "text": [
      "{'Nombre': 'Jose', 'Edad': 23, 'Documento': 268106860}\n",
      "{'Nombre': 'Daniel', 'Edad': 23, 'Documento': 268106860, 'Titulo': 'Bachiller', 'cargo': 'instructor'}\n"
     ]
    }
   ],
   "source": [
    "# se puede añadir mas elementos al un diccionario indicandole la llave y el valor\n",
    "print(d2)\n",
    "\n",
    "# nuevos elementos.\n",
    "\n",
    "d2[\"Titulo\"] = \"Bachiller\"\n",
    "d2[\"cargo\"] = \"instructor\"\n",
    "\n",
    "# tambien son mutables, podemos modificar sus valores\n",
    "\n",
    "d2[\"Nombre\"] = \"Daniel\"\n",
    "\n",
    "print(d2)"
   ]
  },
  {
   "cell_type": "code",
   "execution_count": 171,
   "metadata": {},
   "outputs": [
    {
     "name": "stdout",
     "output_type": "stream",
     "text": [
      "{'Nombre': 'Daniel', 'Edad': 23, 'Documento': 268106860, 'Titulo': 'Bachiller', 'cargo': 'instructor'}\n",
      "{'Nombre': 'Daniel', 'Edad': 23, 'Documento': 268106860, 'cargo': 'instructor'}\n"
     ]
    }
   ],
   "source": [
    "# para eliminar un valor del un diccionario lo hacemos con la funcion del( )\n",
    "\n",
    "print(d2)\n",
    "\n",
    "#borrando elemento\n",
    "del(d2[\"Titulo\"])\n",
    "\n",
    "print(d2)"
   ]
  },
  {
   "cell_type": "code",
   "execution_count": 172,
   "metadata": {},
   "outputs": [
    {
     "data": {
      "text/plain": [
       "4"
      ]
     },
     "execution_count": 172,
     "metadata": {},
     "output_type": "execute_result"
    }
   ],
   "source": [
    "# Tambien podemos usar la funcion len( ) para consultar cuantos valores tenemos en un diccionario\n",
    "\n",
    "len(d2)"
   ]
  },
  {
   "cell_type": "code",
   "execution_count": 181,
   "metadata": {},
   "outputs": [],
   "source": [
    "# diccionario anidado\n",
    "paises = {\n",
    "    'colombia': {\n",
    "        'capital': 'Bogotá',\n",
    "        'poblacion': 50372424,\n",
    "        'idioma': 'español'\n",
    "    },\n",
    "    'francia': {\n",
    "        'capital': 'París',\n",
    "        'poblacion': 66991000,\n",
    "        'idioma': 'francés'\n",
    "    },\n",
    "    'japon': {\n",
    "        'capital': 'Tokio',\n",
    "        'poblacion': 126225000,\n",
    "        'idioma': 'japonés'\n",
    "    }\n",
    "}\n"
   ]
  },
  {
   "cell_type": "code",
   "execution_count": 178,
   "metadata": {},
   "outputs": [
    {
     "data": {
      "text/plain": [
       "'Bogotá'"
      ]
     },
     "execution_count": 178,
     "metadata": {},
     "output_type": "execute_result"
    }
   ],
   "source": [
    "paises['colombia']['capital'] "
   ]
  },
  {
   "attachments": {},
   "cell_type": "markdown",
   "metadata": {},
   "source": [
    "# Metodos en los diccionarios"
   ]
  },
  {
   "cell_type": "code",
   "execution_count": 179,
   "metadata": {},
   "outputs": [
    {
     "name": "stdout",
     "output_type": "stream",
     "text": [
      "{}\n"
     ]
    }
   ],
   "source": [
    "# clear() : elimina todo el contenido del diccionario.\n",
    "paises.clear()\n",
    "\n",
    "print(paises)"
   ]
  },
  {
   "cell_type": "code",
   "execution_count": 183,
   "metadata": {},
   "outputs": [
    {
     "name": "stdout",
     "output_type": "stream",
     "text": [
      "dict_keys(['capital', 'poblacion', 'idioma'])\n"
     ]
    }
   ],
   "source": [
    "# keys() devuelve una lista con todas las keys del diccionario.\n",
    "\n",
    "print(paises['colombia'].keys())"
   ]
  },
  {
   "cell_type": "code",
   "execution_count": 187,
   "metadata": {},
   "outputs": [
    {
     "data": {
      "text/plain": [
       "{'Nombre': 'Sara', 'Edad': 27, 'Documento': 1003882}"
      ]
     },
     "execution_count": 187,
     "metadata": {},
     "output_type": "execute_result"
    }
   ],
   "source": [
    "d1"
   ]
  },
  {
   "cell_type": "code",
   "execution_count": 184,
   "metadata": {},
   "outputs": [
    {
     "name": "stdout",
     "output_type": "stream",
     "text": [
      "dict_values(['Daniel', 23, 268106860, 'instructor'])\n"
     ]
    }
   ],
   "source": [
    "#values() es similar; devuelve una lista de los valores del diccionario\n",
    "\n",
    "print(d2.values())"
   ]
  },
  {
   "cell_type": "code",
   "execution_count": 186,
   "metadata": {},
   "outputs": [
    {
     "name": "stdout",
     "output_type": "stream",
     "text": [
      "dict_items([('Nombre', 'Sara'), ('Edad', 27), ('Documento', 1003882)])\n"
     ]
    }
   ],
   "source": [
    "# items() devuelve ambos, una lista de tuplas con los pares clave-valor del diccionario.\n",
    "\n",
    "print(d1.items())"
   ]
  },
  {
   "cell_type": "code",
   "execution_count": 188,
   "metadata": {},
   "outputs": [
    {
     "data": {
      "text/plain": [
       "{'Nombre': 'Sara', 'Edad': 27, 'Documento': 1003882}"
      ]
     },
     "execution_count": 188,
     "metadata": {},
     "output_type": "execute_result"
    }
   ],
   "source": [
    "d1"
   ]
  },
  {
   "cell_type": "code",
   "execution_count": 189,
   "metadata": {},
   "outputs": [
    {
     "name": "stdout",
     "output_type": "stream",
     "text": [
      "{'Nombre': 'Sara', 'Edad': 27, 'Documento': 1003882}\n",
      "{'Edad': 27, 'Documento': 1003882}\n"
     ]
    }
   ],
   "source": [
    "# pop() busca y elimina la key que se pasa como parámetro y devuelve su valor asociado\n",
    "\n",
    "print(d1)\n",
    "\n",
    "d1.pop('Nombre')\n",
    "print(d1)"
   ]
  },
  {
   "cell_type": "code",
   "execution_count": 190,
   "metadata": {},
   "outputs": [
    {
     "name": "stdout",
     "output_type": "stream",
     "text": [
      "{'a': 1, 'b': 2}\n"
     ]
    }
   ],
   "source": [
    "# popitem() elimina el ultimo elemento del diccionario.\n",
    "\n",
    "d = {'a': 1, 'b': 2, 'c': 3}\n",
    "d.popitem()\n",
    "print(d)"
   ]
  },
  {
   "cell_type": "code",
   "execution_count": 192,
   "metadata": {},
   "outputs": [
    {
     "name": "stdout",
     "output_type": "stream",
     "text": [
      "None\n"
     ]
    }
   ],
   "source": [
    "# el metodo get(), nos permite obtener el valor de un dict\n",
    "# pasandole como argumento su key\n",
    "\n",
    "#paises.get('colombia')\n",
    "\n",
    "#el metodo no regresa nada si le pasamos un key que no existe en el dict\n",
    "\n",
    "print(paises.get('venezuela'))"
   ]
  },
  {
   "cell_type": "code",
   "execution_count": 195,
   "metadata": {},
   "outputs": [
    {
     "name": "stdout",
     "output_type": "stream",
     "text": [
      "el pais no esta en el dict\n"
     ]
    }
   ],
   "source": [
    "# get() tambien puede recibir un segundo argumento que lo podemos usar\n",
    "# como valor de retorno si el key que le pasamos no esta en el dict.\n",
    "\n",
    "print(paises.get('x', 'el pais no esta en el dict'))"
   ]
  },
  {
   "attachments": {},
   "cell_type": "markdown",
   "metadata": {},
   "source": [
    "# Strings"
   ]
  },
  {
   "cell_type": "code",
   "execution_count": 197,
   "metadata": {},
   "outputs": [],
   "source": [
    "cad = 'Machine Learning'"
   ]
  },
  {
   "cell_type": "code",
   "execution_count": 198,
   "metadata": {},
   "outputs": [
    {
     "name": "stdout",
     "output_type": "stream",
     "text": [
      "c\n"
     ]
    }
   ],
   "source": [
    "# Los caracateres de un string estan indexados\n",
    "\n",
    "print(cad[2])"
   ]
  },
  {
   "cell_type": "code",
   "execution_count": 199,
   "metadata": {},
   "outputs": [
    {
     "ename": "TypeError",
     "evalue": "'str' object does not support item assignment",
     "output_type": "error",
     "traceback": [
      "\u001b[1;31m---------------------------------------------------------------------------\u001b[0m",
      "\u001b[1;31mTypeError\u001b[0m                                 Traceback (most recent call last)",
      "Cell \u001b[1;32mIn[199], line 2\u001b[0m\n\u001b[0;32m      1\u001b[0m \u001b[39m# son inmutables\u001b[39;00m\n\u001b[1;32m----> 2\u001b[0m cad[\u001b[39m2\u001b[39;49m] \u001b[39m=\u001b[39m \u001b[39m'\u001b[39m\u001b[39mm\u001b[39m\u001b[39m'\u001b[39m\n",
      "\u001b[1;31mTypeError\u001b[0m: 'str' object does not support item assignment"
     ]
    }
   ],
   "source": [
    "# son inmutables\n",
    "cad[2] = 'm'"
   ]
  },
  {
   "cell_type": "code",
   "execution_count": 200,
   "metadata": {},
   "outputs": [
    {
     "data": {
      "text/plain": [
       "16"
      ]
     },
     "execution_count": 200,
     "metadata": {},
     "output_type": "execute_result"
    }
   ],
   "source": [
    "# podemos usar len() para saber la longitud de un string\n",
    "\n",
    "len(cad)"
   ]
  },
  {
   "attachments": {},
   "cell_type": "markdown",
   "metadata": {},
   "source": [
    "# Metodos de los strings"
   ]
  },
  {
   "cell_type": "code",
   "execution_count": null,
   "metadata": {},
   "outputs": [],
   "source": [
    "# capitalize() se aplica sobre una cadena y la devuelve con su primera letra en mayúscula.\n",
    "\n",
    "c = 'algoritmo'\n",
    "print(c.capitalize())"
   ]
  },
  {
   "cell_type": "code",
   "execution_count": null,
   "metadata": {},
   "outputs": [],
   "source": [
    "# lower() convierte todos los caracteres alfabéticos en minúscula.\n",
    "\n",
    "ch = 'LIMP BIZKIT'\n",
    "print(ch.lower())"
   ]
  },
  {
   "cell_type": "code",
   "execution_count": null,
   "metadata": {},
   "outputs": [],
   "source": [
    "# swapcase() convierte los caracteres alfabéticos con mayúsculas en minúsculas y viceversa.\n",
    "\n",
    "s = 'Mi CaDeNa'\n",
    "print(s.swapcase())"
   ]
  },
  {
   "cell_type": "code",
   "execution_count": null,
   "metadata": {},
   "outputs": [],
   "source": [
    "# upper() convierte todos los caracteres alfabéticos en mayúsculas.\n",
    "\n",
    "s = 'mi cadena'\n",
    "print(s.upper())"
   ]
  },
  {
   "cell_type": "code",
   "execution_count": null,
   "metadata": {},
   "outputs": [],
   "source": [
    "# count() permite contar las veces que otra cadena se encuentra dentro de la primera. \n",
    "\n",
    "s = 'hola, como esta el dia de hoy?'\n",
    "print(s.count('o'))"
   ]
  },
  {
   "cell_type": "code",
   "execution_count": null,
   "metadata": {},
   "outputs": [],
   "source": [
    "''' \n",
    "isalnum() devuelve True si la cadena esta formada únicamente por caracteres alfanuméricos, \n",
    "False de lo contrario. Caracteres como @ o & no son alfanumericos.\n",
    "'''\n",
    "\n",
    "email = 'danvilpra@gmail.com'\n",
    "\n",
    "print(email.isalnum())"
   ]
  },
  {
   "cell_type": "code",
   "execution_count": null,
   "metadata": {},
   "outputs": [],
   "source": [
    "# isalpha() devuelve True si todos los caracteres son alfabéticos, False de lo contrario\n",
    "\n",
    "s = 'qwerty'\n",
    "print(s.isalpha())"
   ]
  },
  {
   "cell_type": "code",
   "execution_count": 3,
   "metadata": {},
   "outputs": [
    {
     "data": {
      "text/plain": [
       "'    space    '"
      ]
     },
     "execution_count": 3,
     "metadata": {},
     "output_type": "execute_result"
    }
   ],
   "source": [
    "# strip() elimina los espacios en blanco en las cadenas\n",
    "\n",
    "c = '    space    '\n",
    "print(c.strip())"
   ]
  },
  {
   "cell_type": "code",
   "execution_count": null,
   "metadata": {},
   "outputs": [],
   "source": [
    "# join() devuelve la primera cadena unida a cada uno de los elementos de la lista que se le pasa como parámetro.\n",
    "\n",
    "s = 'y'.join([\"1\", \"2\", \"3\"])\n",
    "print(s)"
   ]
  },
  {
   "cell_type": "code",
   "execution_count": null,
   "metadata": {},
   "outputs": [],
   "source": [
    "#split() divide una cadena en subcadenas y las devuelve almacenadas en una lista.\n",
    "\n",
    "s = \"Python Java C\"\n",
    "print(s.split())"
   ]
  },
  {
   "attachments": {},
   "cell_type": "markdown",
   "metadata": {},
   "source": [
    "### Ejercicios"
   ]
  },
  {
   "cell_type": "code",
   "execution_count": 13,
   "metadata": {},
   "outputs": [
    {
     "name": "stdout",
     "output_type": "stream",
     "text": [
      "daniel\n",
      "daniel\n",
      "daniel\n",
      "daniel\n",
      "daniel\n",
      "daniel\n",
      "\n"
     ]
    }
   ],
   "source": [
    "# Escribir un programa que pregunte el nombre del usuario en la consola y un número entero e imprima por pantalla en \n",
    "# líneas distintas el nombre del usuario tantas veces como el número introducido.\n",
    "\n",
    "n = input('ingrese nombre:')\n",
    "m = int(input())\n",
    "print(f'{n}\\n'*m)"
   ]
  },
  {
   "cell_type": "code",
   "execution_count": 10,
   "metadata": {},
   "outputs": [
    {
     "name": "stdout",
     "output_type": "stream",
     "text": [
      "daniel vielma\n",
      "DANIEL VIELMA\n",
      "Daniel Vielma\n"
     ]
    }
   ],
   "source": [
    "''' \n",
    "Escribir un programa que pregunte el nombre completo del usuario en la consola y después muestre por pantalla \n",
    "el nombre completo del usuario tres veces, una con todas las letras minúsculas, otra con todas las letras mayúsculas \n",
    "y otra solo con la primera letra del nombre y de los apellidos en mayúscula. El usuario puede introducir su nombre combinando \n",
    "mayúsculas y minúsculas como quiera.\n",
    "'''\n",
    "\n",
    "n = (input('ingrese su nombre completo: '))\n",
    "print(n.lower())\n",
    "print(n.upper())\n",
    "m = n.split()\n",
    "print(m[0].capitalize(), m[1].capitalize())"
   ]
  },
  {
   "cell_type": "code",
   "execution_count": 9,
   "metadata": {},
   "outputs": [
    {
     "data": {
      "text/plain": [
       "['jose', 'daniel', 'vielma', 'prada']"
      ]
     },
     "execution_count": 9,
     "metadata": {},
     "output_type": "execute_result"
    }
   ],
   "source": [
    "m"
   ]
  },
  {
   "cell_type": "code",
   "execution_count": null,
   "metadata": {},
   "outputs": [],
   "source": [
    "''' \n",
    "Escribir un programa que pregunte al usuario la fecha de su nacimiento en formato \n",
    "dd/mm/aaaa y muestra por pantalla, el día, el mes y el año por separado\n",
    "'''"
   ]
  },
  {
   "cell_type": "code",
   "execution_count": null,
   "metadata": {},
   "outputs": [],
   "source": [
    "''' \n",
    "Escribir un programa que almacene las asignaturas de un semestre\n",
    "(por ejemplo Matemáticas, Física, Química, Historia y Lengua) en \n",
    "una lista y la muestre por pantalla.\n",
    "'''"
   ]
  },
  {
   "cell_type": "code",
   "execution_count": null,
   "metadata": {},
   "outputs": [],
   "source": [
    "# Escribir un programa que almacene las asignaturas de un curso \n",
    "# (por ejemplo Matemáticas, Física, Química, Historia y Lengua) \n",
    "# en una lista y la muestre por pantalla."
   ]
  },
  {
   "cell_type": "code",
   "execution_count": null,
   "metadata": {},
   "outputs": [],
   "source": [
    "'''\n",
    "Escribir un programa que pregunte al usuario su nombre, edad, dirección y teléfono y lo \n",
    "guarde en un diccionario. Después debe mostrar por pantalla el mensaje <nombre> tiene <edad> \n",
    "años, vive en <dirección> y su número de teléfono es <teléfono>. \n",
    "'''"
   ]
  },
  {
   "cell_type": "code",
   "execution_count": null,
   "metadata": {},
   "outputs": [],
   "source": []
  },
  {
   "cell_type": "code",
   "execution_count": null,
   "metadata": {},
   "outputs": [],
   "source": []
  },
  {
   "attachments": {
    "image.png": {
     "image/png": "[encoded data removed]"
    }
   },
   "cell_type": "markdown",
   "metadata": {},
   "source": [
    "<c> ![image.png](attachment:image.png) <c>"
   ]
  },
  {
   "cell_type": "code",
   "execution_count": null,
   "metadata": {},
   "outputs": [],
   "source": [
    "# Escribir un programa que guarde en un diccionario los precios de las frutas de la tabla, \n",
    "# pregunte al usuario por una fruta, un número de kilos y muestre por pantalla el precio de \n",
    "# ese número de kilos de fruta. Si la fruta no está en el diccionario debe mostrar un mensaje \n",
    "# informando de ello."
   ]
  },
  {
   "cell_type": "code",
   "execution_count": null,
   "metadata": {},
   "outputs": [],
   "source": [
    "# crear dos o mas sets de python y probar todos los metodos de operaciones booleanas.\n"
   ]
  }
 ],
 "metadata": {
  "kernelspec": {
   "display_name": "Python 3",
   "language": "python",
   "name": "python3"
  },
  "language_info": {
   "codemirror_mode": {
    "name": "ipython",
    "version": 3
   },
   "file_extension": ".py",
   "mimetype": "text/x-python",
   "name": "python",
   "nbconvert_exporter": "python",
   "pygments_lexer": "ipython3",
   "version": "3.10.11"
  },
  "orig_nbformat": 4
 },
 "nbformat": 4,
 "nbformat_minor": 2
}
