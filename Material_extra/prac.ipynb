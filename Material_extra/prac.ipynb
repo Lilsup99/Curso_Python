{
 "cells": [
  {
   "cell_type": "code",
   "execution_count": 5,
   "metadata": {},
   "outputs": [],
   "source": [
    "import math"
   ]
  },
  {
   "cell_type": "code",
   "execution_count": 4,
   "metadata": {},
   "outputs": [
    {
     "name": "stdout",
     "output_type": "stream",
     "text": [
      "<__main__.punto object at 0x00000224F5D06170>\n",
      "2357766152560\n"
     ]
    }
   ],
   "source": [
    "'''\n",
    "definicion del objeto par ordenado (x, y)\n",
    "'''\n",
    "\n",
    "class punto:\n",
    "    pass\n",
    "\n",
    "b = punto()\n",
    "b.x = 3.0\n",
    "b.y = 4.0\n",
    "\n",
    "print(b)\n",
    "print(id(b))\n"
   ]
  },
  {
   "cell_type": "code",
   "execution_count": 9,
   "metadata": {},
   "outputs": [
    {
     "data": {
      "text/plain": [
       "2.23606797749979"
      ]
     },
     "execution_count": 9,
     "metadata": {},
     "output_type": "execute_result"
    }
   ],
   "source": [
    "# distancia entre dos objetos tipo punto\n",
    "def distancia(p, q):\n",
    "    return math.sqrt((p.x - q.x)**2 + (p.y -q.y)**2)\n",
    "\n",
    "a = punto(); a.x = 2; a.y = 2\n",
    "\n",
    "distancia(b, a)"
   ]
  },
  {
   "cell_type": "code",
   "execution_count": 10,
   "metadata": {},
   "outputs": [
    {
     "data": {
      "text/plain": [
       "False"
      ]
     },
     "execution_count": 10,
     "metadata": {},
     "output_type": "execute_result"
    }
   ],
   "source": [
    "bool(0)"
   ]
  },
  {
   "cell_type": "code",
   "execution_count": null,
   "metadata": {},
   "outputs": [],
   "source": [
    "class rectangulo:\n",
    "    pass\n",
    "\n",
    "box = rectangulo()\n",
    "box.ancho = 100.0\n",
    "box.largo = 200.0\n",
    "box.esquina = punto() # una instancia dentro de otra\n",
    "box.esquina.x = 0.0\n",
    "box.esquina.y = 0.0\n",
    "\n"
   ]
  }
 ],
 "metadata": {
  "kernelspec": {
   "display_name": "Python 3",
   "language": "python",
   "name": "python3"
  },
  "language_info": {
   "codemirror_mode": {
    "name": "ipython",
    "version": 3
   },
   "file_extension": ".py",
   "mimetype": "text/x-python",
   "name": "python",
   "nbconvert_exporter": "python",
   "pygments_lexer": "ipython3",
   "version": "3.10.11"
  },
  "orig_nbformat": 4
 },
 "nbformat": 4,
 "nbformat_minor": 2
}
