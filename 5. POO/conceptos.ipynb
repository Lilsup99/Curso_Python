{
 "cells": [
  {
   "cell_type": "markdown",
   "metadata": {},
   "source": [
    "# POO en python"
   ]
  },
  {
   "cell_type": "markdown",
   "metadata": {},
   "source": [
    "## Creacion de la clase, recuerda que una clase en una plantilla, que contiene todos los atributos y metodos de los objetos que contiene dicha clase."
   ]
  },
  {
   "cell_type": "code",
   "execution_count": 5,
   "metadata": {},
   "outputs": [],
   "source": [
    "# definicion de un nuevo tipo de dato: punto en el plano cartesiano (x, y)\n",
    "'''\n",
    "despues de la sentencia class, se coloca <nombre_clase>():\n",
    "todo lo que este identado despues de esta sentencia es la \n",
    "plantilla para nuestra clase\n",
    "'''\n",
    "class punto():\n",
    "\n",
    "    # en el constructor __init__ es donde definimos los atributos que\n",
    "    # tendran los objetos de nuestra clase\n",
    "  def __init__(self, x = 0, y = 0):\n",
    "        self.x = x\n",
    "        self.y = y\n",
    "        \n",
    "    # el nombre self lo usamos para hacer referencia al objeto en cuestion.    \n",
    "\n",
    "    #Luego los metodos de nuestra clase se definen como funciones\n",
    "    #pero dentro de la estructura de class.\n",
    "    \n",
    "\n",
    "  #imprimir un punto\n",
    "  def disp(self):\n",
    "        return tuple([self.x, self.y])\n",
    "    \n",
    "  # cuadrante\n",
    "  def cuadrante(self):\n",
    "      if self.x == 0 and self.y == 0:\n",
    "        return ('origen')\n",
    "      elif self.x > 0 and self.y > 0:\n",
    "        return(\"primer cuadrante\")\n",
    "      elif self.x < 0 and self.y > 0:\n",
    "        return(\"segundo cuadrante\")\n",
    "      elif self.x < 0 and self.y < 0:\n",
    "        return(\"tercer cuadrante\")\n",
    "      elif self.x > 0 and self.y < 0:\n",
    "        return(\"cuarto cuadrante\")\n",
    "\n",
    "  # distancia entre dos puntos\n",
    "  def distancia(self, point):\n",
    "    from math import sqrt\n",
    "    return(sqrt((self.x - point.x)**2 + (self.y - point.y)**2))\n",
    "\n",
    "  #determinar si 3 puntos son colineales\n",
    "  def colineal(self, punto1, punto2):\n",
    "    if (self.x * (punto1.y - punto2.y) - (self.y * (punto1.x -punto2.x)) + (punto1.x * punto2.y - punto2.x * punto1.y)) * 0.5 == 0:\n",
    "      print(\"los puntos son colineales\")\n",
    "    else:\n",
    "      print('NO son colineales')\n",
    "      \n",
    "  # suma de dos puntos\n",
    "  def __add__(self, p):\n",
    "    return(punto(self.x + p.x, self.y + p.y))\n",
    "\n",
    "# De manera de practica puede incorporar mas metodos a la clase punto()"
   ]
  },
  {
   "cell_type": "markdown",
   "metadata": {},
   "source": [
    "## Instancia\n",
    "una instancia es un objeto creado a partir de una clase, en este caso creamos una instancia para nuestra clase `punto()`"
   ]
  },
  {
   "cell_type": "code",
   "execution_count": 6,
   "metadata": {},
   "outputs": [
    {
     "name": "stdout",
     "output_type": "stream",
     "text": [
      "<class '__main__.punto'>\n"
     ]
    }
   ],
   "source": [
    "# creamos un punto\n",
    "p = punto(2,1)\n",
    "print(type(p))"
   ]
  },
  {
   "cell_type": "code",
   "execution_count": 7,
   "metadata": {},
   "outputs": [
    {
     "data": {
      "text/plain": [
       "(2, 1)"
      ]
     },
     "execution_count": 7,
     "metadata": {},
     "output_type": "execute_result"
    }
   ],
   "source": [
    "# en nuestra clase tenemos el metodo disp() para imprimir puntos\n",
    "\n",
    "p.disp()"
   ]
  },
  {
   "cell_type": "code",
   "execution_count": 9,
   "metadata": {},
   "outputs": [
    {
     "data": {
      "text/plain": [
       "5.0"
      ]
     },
     "execution_count": 9,
     "metadata": {},
     "output_type": "execute_result"
    }
   ],
   "source": [
    "#hay tambien un metodo para calcular la distancia entre dos puntos\n",
    "p1 = punto(2,6)\n",
    "\n",
    "p.distancia(p1)"
   ]
  },
  {
   "cell_type": "markdown",
   "metadata": {},
   "source": [
    "## Ejemplo de herencia y polimorfismo\n"
   ]
  },
  {
   "cell_type": "markdown",
   "metadata": {},
   "source": [
    "Supongamos que estás creando un juego y deseas modelar diferentes tipos de personajes, como guerreros y magos. Puedes tener una clase base Personaje y luego crear subclases Guerrero y Mago que heredan de ella:"
   ]
  },
  {
   "cell_type": "code",
   "execution_count": 10,
   "metadata": {},
   "outputs": [
    {
     "name": "stdout",
     "output_type": "stream",
     "text": [
      "Hola, soy Aragorn, un personaje de nivel 10 y soy un guerrero. Llevo un espada.\n",
      "Hola, soy Gandalf, un personaje de nivel 15 y soy un mago. Puedo lanzar el hechizo fuego.\n"
     ]
    }
   ],
   "source": [
    "#Primero creamos una clase padre\n",
    "\n",
    "class Personaje:\n",
    "    def __init__(self, nombre, nivel):\n",
    "        self.nombre = nombre\n",
    "        self.nivel = nivel\n",
    "\n",
    "    def saludar(self):\n",
    "        return f\"Hola, soy {self.nombre}, un personaje de nivel {self.nivel}\"\n",
    "\n",
    "\n",
    "#luegos definimos las subclases de la siguiente manera\n",
    "\n",
    "class Guerrero(Personaje):\n",
    "    def __init__(self, nombre, nivel, arma):\n",
    "        super().__init__(nombre, nivel)\n",
    "        self.arma = arma\n",
    "\n",
    "    def saludar(self):\n",
    "        return f\"{super().saludar()} y soy un guerrero. Llevo un {self.arma}.\"\n",
    "\n",
    "class Mago(Personaje):\n",
    "    def __init__(self, nombre, nivel, hechizo):\n",
    "        super().__init__(nombre, nivel)\n",
    "        self.hechizo = hechizo\n",
    "\n",
    "    def saludar(self):\n",
    "        return f\"{super().saludar()} y soy un mago. Puedo lanzar el hechizo {self.hechizo}.\"\n",
    "\n",
    "\n",
    "# Note que con super() llamamos a los metodos y atributos de la clase padre.\n",
    "\n",
    "\n",
    "# Crear instancias de las subclases\n",
    "mi_guerrero = Guerrero(\"Aragorn\", 10, \"espada\")\n",
    "mi_mago = Mago(\"Gandalf\", 15, \"fuego\")\n",
    "\n",
    "# Usar los métodos heredados\n",
    "print(mi_guerrero.saludar())\n",
    "print(mi_mago.saludar())\n"
   ]
  },
  {
   "cell_type": "markdown",
   "metadata": {},
   "source": [
    "Note que las ultimas lineas son un ejemplo de polimorfismo, ya que estamos usando el mismo metodo `saludar()` para dos objetos distintos, uno de la clase `Mago` y otro de la clase `Guerrero`"
   ]
  }
 ],
 "metadata": {
  "kernelspec": {
   "display_name": "Python 3",
   "language": "python",
   "name": "python3"
  },
  "language_info": {
   "codemirror_mode": {
    "name": "ipython",
    "version": 3
   },
   "file_extension": ".py",
   "mimetype": "text/x-python",
   "name": "python",
   "nbconvert_exporter": "python",
   "pygments_lexer": "ipython3",
   "version": "3.10.11"
  },
  "orig_nbformat": 4
 },
 "nbformat": 4,
 "nbformat_minor": 2
}
